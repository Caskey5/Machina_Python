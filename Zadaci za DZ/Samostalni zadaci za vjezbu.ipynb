{
 "cells": [
  {
   "cell_type": "markdown",
   "metadata": {},
   "source": [
    "# Vježba svega po malo"
   ]
  },
  {
   "cell_type": "markdown",
   "metadata": {},
   "source": [
    "Samostalni zadaci"
   ]
  },
  {
   "cell_type": "markdown",
   "metadata": {},
   "source": [
    "Zadatak 1: Provjera godine rođenja\n",
    "Napiši program koji traži od korisnika da unese godinu svog rođenja. Zatim, koristeći if-elif-else, program treba ispisati:\n",
    "Ako je korisnik mlađi od 18 godina: \"Nisi punoljetan.\"\n",
    "Ako ima između 18 i 65 godina: \"Punoljetan si.\"\n",
    "Ako ima više od 65 godina: \"Možete u penziju.\""
   ]
  },
  {
   "cell_type": "code",
   "execution_count": null,
   "metadata": {},
   "outputs": [],
   "source": [
    "\n",
    "godina = int(input(\"Unesite godinu rođenja: \"))\n",
    "\n",
    "if godina < 18:\n",
    "    print(\"Nisi punoljetan!\")\n",
    "\n",
    "elif godina < 65:\n",
    "    print(\"Punoljetan si!\")\n",
    "\n",
    "else:\n",
    "    print(\"Možete u penziju!\")"
   ]
  },
  {
   "cell_type": "markdown",
   "metadata": {},
   "source": [
    "Zadatak 2: Igra pogađanja broja (s while True)\n",
    "Napiši igru u kojoj računalo nasumično odabire broj između 1 i 100 koristeći random.randint(), a korisnik mora pogoditi broj. Program treba omogućiti da korisnik stalno pogađa dok ne pogodi tačan broj. Kada korisnik pogodi broj, program treba ispisati \"Čestitamo, pogodili ste broj!\" i izaći iz petlje.\n",
    "\n",
    "Savjet: Koristi while True za beskonačnu petlju i input() za unos korisnika."
   ]
  },
  {
   "cell_type": "code",
   "execution_count": null,
   "metadata": {},
   "outputs": [],
   "source": [
    "import random\n",
    "\n",
    "broj = random.randint(1, 10)\n",
    "\n",
    "while True:\n",
    "    unos = int(input(\"Unesi broj: \"))\n",
    "    if unos != broj:\n",
    "        print(\"Nisi pogodio,pokušaj ponovno!\")\n",
    "    if unos == broj:\n",
    "        print(\"Pogodio si! Čestitam!\")\n",
    "        break"
   ]
  },
  {
   "cell_type": "markdown",
   "metadata": {},
   "source": [
    "Zadatak 3: Brojanje slova u stringu\n",
    "Napiši program koji od korisnika traži da unese neki tekst. Zatim, koristi funkciju len() da izračuna i ispiše broj karaktera u unesenom tekstu. Ako broj karaktera premašuje 50, program treba ispisati \"Tekst je predug\", a ako je manji ili jednak 50, \"Tekst je u redu\"."
   ]
  },
  {
   "cell_type": "code",
   "execution_count": null,
   "metadata": {},
   "outputs": [],
   "source": [
    "unos = input(\"Unesite tekst: \")\n",
    "\n",
    "if len(unos) > 20:\n",
    "    print(\"Tekst je predug!\")\n",
    "elif len(unos) < 20:\n",
    "    print(unos)"
   ]
  },
  {
   "cell_type": "markdown",
   "metadata": {},
   "source": [
    "Zadatak 4: Brojanje parnih brojeva\n",
    "Napiši program koji koristi while petlju da broji parne brojeve od 1 do 50 i ispisuje ih. Nakon što ispiše sve parne brojeve, program treba ispisati koliko je parnih brojeva pronađeno.\n",
    "\n",
    "Savjet: Upotrijebi while i if za provjeru parnosti brojeva.\n",
    "\n",
    "Izvuces 5 brojeva,zbrojiš koliko ima parnih brojeva od this 5 i ispises."
   ]
  },
  {
   "cell_type": "code",
   "execution_count": null,
   "metadata": {},
   "outputs": [
    {
     "name": "stdout",
     "output_type": "stream",
     "text": [
      "2\n",
      "4\n",
      "6\n",
      "8\n",
      "10\n",
      "Ukupno parnih brojeva: 5\n"
     ]
    }
   ],
   "source": [
    "import random\n",
    "\n",
    "brojac = 0\n",
    "\n",
    "for brojevi in range (1,11):\n",
    "    if not brojevi % 2:\n",
    "        print(brojevi)\n",
    "        brojac += 1\n",
    "\n",
    "print(f\"Ukupno parnih brojeva: {brojac}\")\n"
   ]
  },
  {
   "cell_type": "markdown",
   "metadata": {},
   "source": [
    "Zadatak 5: Kalkulator datuma\n",
    "Napiši program koji koristi datetime kako bi izračunao koji je datum za 30 dana od trenutnog dana. Ispiši današnji datum i datum koji će biti za 30 dana. Također, neka program ispisuje koji je dan u nedelji za oba datuma.\n",
    "\n",
    "Savjet: Koristi datetime.today() za trenutni datum, a timedelta za pomak od 30 dana.\n",
    "\n"
   ]
  },
  {
   "cell_type": "code",
   "execution_count": 1,
   "metadata": {},
   "outputs": [
    {
     "name": "stdout",
     "output_type": "stream",
     "text": [
      "Danas je: 01-09-2025 , Monday\n",
      "Datum i dan za 30 dana če biti: 01-10-2025 , Wednesday \n"
     ]
    }
   ],
   "source": [
    "from datetime import datetime, timedelta\n",
    "\n",
    "\n",
    "danas = datetime.today()\n",
    "\n",
    "normalan_datum = datetime.strftime(danas, \"%d-%m-%Y\")\n",
    "dan_string1 = danas.strftime('%A')\n",
    "\n",
    "print(f\"Danas je: {normalan_datum} , {dan_string1}\")\n",
    "\n",
    "buduči_datum = danas + timedelta(days=30)\n",
    "\n",
    "normalan_buduči_datum = datetime.strftime(buduči_datum,'%d-%m-%Y')\n",
    "buduči_datum = buduči_datum.strftime('%A')\n",
    "\n",
    "\n",
    "\n",
    "\n",
    "print(f\"Datum i dan za 30 dana če biti: {normalan_buduči_datum} , {buduči_datum} \")\n"
   ]
  },
  {
   "cell_type": "markdown",
   "metadata": {},
   "source": [
    "Zadatak 6: Napiši program koji traži od korisnika da unese temperaturu i ispisuje poruku:\n",
    "\n",
    "Ispod 0°C: \"Smrzavanje\" ,\n",
    "0-15°C: \"Hladno\" ,\n",
    "16-25°C: \"Prijatno\" ,\n",
    "26-35°C: \"Toplo\" ,\n",
    "Iznad 35°C: \"Vruće\" ,"
   ]
  },
  {
   "cell_type": "code",
   "execution_count": 147,
   "metadata": {},
   "outputs": [
    {
     "name": "stdout",
     "output_type": "stream",
     "text": [
      "Vruće!\n"
     ]
    }
   ],
   "source": [
    "temperatura = input(\"Unesite koliko je trenutno stupnjeva kod vas: \")\n",
    "temperatura = int(temperatura)\n",
    "\n",
    "if temperatura < 0:\n",
    "    print(\"Smrzavanje!\")\n",
    "\n",
    "elif temperatura >= 1 and temperatura <= 15:\n",
    "    print(\"Hladno!\")\n",
    "\n",
    "elif temperatura >= 16 and temperatura <= 25:\n",
    "    print(\"Prijatno!\")\n",
    "\n",
    "elif temperatura >= 26 and temperatura <= 35:\n",
    "    print(\"Toplo!\")\n",
    "\n",
    "else:\n",
    "    temperatura < 35\n",
    "    print(\"Vruće!\")"
   ]
  },
  {
   "cell_type": "markdown",
   "metadata": {},
   "source": [
    "Zadatak 7: Napiši program koji traži od korisnika da unese broj i ispisuje da li je pozitivan, negativan ili nula.\n",
    "\n"
   ]
  },
  {
   "cell_type": "code",
   "execution_count": 9,
   "metadata": {},
   "outputs": [
    {
     "name": "stdout",
     "output_type": "stream",
     "text": [
      "Unio si broj 0 , pokusaj sa pozitivnim ili negativnim brojem!\n",
      "Unio si broj 0 , pokusaj sa pozitivnim ili negativnim brojem!\n",
      "Pozitivan broj!\n"
     ]
    }
   ],
   "source": [
    "while True:\n",
    "    broj = int(input(\"Unesi broj: \"))\n",
    "    if not broj % 2 == 0:\n",
    "        print(\"Negativan broj!\")\n",
    "        break\n",
    "\n",
    "    elif broj == 0:\n",
    "        print(\"Unio si broj 0 , pokusaj sa pozitivnim ili negativnim brojem!\")\n",
    "    \n",
    "    else:\n",
    "         print(\"Pozitivan broj!\")\n",
    "         break\n",
    "\n",
    "        \n",
    "\n",
    " "
   ]
  },
  {
   "cell_type": "markdown",
   "metadata": {},
   "source": [
    "Zadatak 8: Napiši program koji traži od korisnika unos brojeva i prestaje kada korisnik unese broj 0. Na kraju ispiši sumu unetih brojeva.\n",
    "\n"
   ]
  },
  {
   "cell_type": "code",
   "execution_count": null,
   "metadata": {},
   "outputs": [
    {
     "name": "stdout",
     "output_type": "stream",
     "text": [
      "1\n",
      "2\n",
      "5\n",
      "4\n",
      "2\n",
      "0\n",
      "Zbroj unesenih brojeva je : 14\n"
     ]
    }
   ],
   "source": [
    "\n",
    "zbroj = 0\n",
    "\n",
    "while True:\n",
    "    unos = int(input(\"Unesite brojeve , ako želite prekinuti unos unesite 0: \"))\n",
    "    print(unos)\n",
    "    if unos == 0:\n",
    "        break\n",
    "    zbroj += unos\n",
    "\n",
    "print(f\"Zbroj unesenih brojeva je : {zbroj}\")"
   ]
  },
  {
   "cell_type": "markdown",
   "metadata": {},
   "source": [
    "Zadatak 9: Napiši program koji traži unos lozinke i ponavlja unos dok korisnik ne unese tačnu lozinku \"Python123\"."
   ]
  },
  {
   "cell_type": "code",
   "execution_count": null,
   "metadata": {},
   "outputs": [
    {
     "name": "stdout",
     "output_type": "stream",
     "text": [
      "Unesena je kriva lozinka,pokušajte ponovno!\n",
      "Unesena je kriva lozinka,pokušajte ponovno!\n",
      "Unesena je kriva lozinka,pokušajte ponovno!\n",
      "Unesena je kriva lozinka,pokušajte ponovno!\n",
      "Unesena je kriva lozinka,pokušajte ponovno!\n",
      "Unesena je kriva lozinka,pokušajte ponovno!\n",
      "Uspiješno ste se ulogirali!\n"
     ]
    }
   ],
   "source": [
    "while True:\n",
    "    default_password = input(\"Unesite lozinku: \")\n",
    "    if default_password == 'Python123':\n",
    "        print(\"Uspiješno ste se ulogirali!\")\n",
    "        break\n",
    "    if not default_password == 'Python123':\n",
    "        print(\"Unesena je kriva lozinka,pokušajte ponovno!\")"
   ]
  },
  {
   "cell_type": "markdown",
   "metadata": {},
   "source": [
    "Zadatak 10: Napiši program koji generiše nasumičan broj između 1 i 100 i omogućava korisniku da pogađa broj. Program treba da obaveštava korisnika da li je uneti broj premali, prevelik ili tačan."
   ]
  },
  {
   "cell_type": "code",
   "execution_count": null,
   "metadata": {},
   "outputs": [
    {
     "name": "stdout",
     "output_type": "stream",
     "text": [
      "Probaj sa manjim brojem!\n",
      "Probaj sa manjim brojem!\n",
      "Probaj sa manjim brojem!\n",
      "Probaj sa manjim brojem!\n",
      "Pogodio si , Čestitam!\n"
     ]
    }
   ],
   "source": [
    "import random\n",
    "\n",
    "broj = random.randint(1, 10)\n",
    "while True:\n",
    "    unos = int(input(\"Unesi broj: \"))\n",
    "    if unos == broj:\n",
    "        print(\"Pogodio si , Čestitam!\")\n",
    "        break\n",
    "    elif unos < broj:\n",
    "        print(\"Probaj sa večim brojem! \")\n",
    "\n",
    "    else:\n",
    "        unos > broj\n",
    "        print(\"Probaj sa manjim brojem!\")"
   ]
  },
  {
   "cell_type": "markdown",
   "metadata": {},
   "source": [
    "Zadatak 11: Napiši program koji ispisuje trenutni datum i vreme u formatu DD.MM.YYYY HH:MM:SS."
   ]
  },
  {
   "cell_type": "code",
   "execution_count": null,
   "metadata": {},
   "outputs": [
    {
     "name": "stdout",
     "output_type": "stream",
     "text": [
      "01-09-2025-16-20-35 \n"
     ]
    }
   ],
   "source": [
    "from datetime import datetime\n",
    "\n",
    "danas = datetime.today()\n",
    "\n",
    "datum = datetime.strftime(danas, '%d-%m-%Y-%H-%M-%S ')\n",
    "print(datum)"
   ]
  },
  {
   "cell_type": "markdown",
   "metadata": {},
   "source": [
    "Zadatk 12: Napiši program koji traži od korisnika da unese datum u formatu YYYY-MM-DD i izračunava koliko dana je prošlo od tog datuma do danas."
   ]
  },
  {
   "cell_type": "code",
   "execution_count": null,
   "metadata": {},
   "outputs": [
    {
     "name": "stdout",
     "output_type": "stream",
     "text": [
      "Od 1999-09-07 do danas je prošlo 9297 dana.\n"
     ]
    }
   ],
   "source": [
    "from datetime import datetime , timedelta\n",
    "\n",
    "\n",
    "unos = input(\"Unesi datum u formatu YYYY-MM-DD: \")\n",
    "\n",
    "datum = datetime.strptime(unos , '%Y-%m-%d')\n",
    "\n",
    "danas = datetime.today()\n",
    "\n",
    "rezultat = danas - datum\n",
    "\n",
    "\n",
    "print(f\"Od {unos} do danas je prošlo {rezultat.days} dana.\")"
   ]
  },
  {
   "cell_type": "markdown",
   "metadata": {},
   "source": [
    "Zadatak 13: Napiši program koji ispisuje sve brojeve od 1 do 50 koji su deljivi sa 3."
   ]
  },
  {
   "cell_type": "code",
   "execution_count": 34,
   "metadata": {},
   "outputs": [
    {
     "name": "stdout",
     "output_type": "stream",
     "text": [
      "3\n",
      "6\n",
      "9\n",
      "12\n",
      "15\n",
      "18\n",
      "21\n",
      "24\n",
      "27\n",
      "30\n",
      "33\n",
      "36\n",
      "39\n",
      "42\n",
      "45\n",
      "48\n"
     ]
    }
   ],
   "source": [
    "for brojevi in range (1 ,51):\n",
    "    if brojevi % 3 == 0:\n",
    "        print(brojevi)"
   ]
  },
  {
   "cell_type": "markdown",
   "metadata": {},
   "source": [
    "Zadatak 14: Napiši program koji traži od korisnika da unese reč i ispisuje svako slovo te reči posebno u novom redu.\n",
    "\n"
   ]
  },
  {
   "cell_type": "code",
   "execution_count": 36,
   "metadata": {},
   "outputs": [
    {
     "name": "stdout",
     "output_type": "stream",
     "text": [
      "t\n",
      "o\n",
      "n\n",
      "i\n"
     ]
    }
   ],
   "source": [
    "riječ = input(\"Unesite riječ: \")\n",
    "for riječ in riječ:\n",
    "    riječ.title()\n",
    "    print(riječ)"
   ]
  },
  {
   "cell_type": "markdown",
   "metadata": {},
   "source": [
    "Zadatak 15: Napiši program koji traži od korisnika unos rečenice i koristi while petlju da izbroji koliko ima samoglasnika (a, e, i, o, u)."
   ]
  },
  {
   "cell_type": "code",
   "execution_count": null,
   "metadata": {},
   "outputs": [
    {
     "name": "stdout",
     "output_type": "stream",
     "text": [
      "Broj samoglasnika u rečenici je: 4\n"
     ]
    }
   ],
   "source": [
    "\n",
    "recenica = input(\"Unesite rečenicu: \").lower()  \n",
    "\n",
    "samoglasnici = \"aeiou\"\n",
    "\n",
    "brojac = 0\n",
    "i = 0  \n",
    "\n",
    "while i < len(recenica):\n",
    "    if recenica[i] in samoglasnici:  \n",
    "        brojac += 1\n",
    "    i += 1  \n",
    "\n",
    "print(\"Broj samoglasnika u rečenici je:\", brojac)"
   ]
  },
  {
   "cell_type": "markdown",
   "metadata": {},
   "source": [
    "Zadatak 16: Korisnik unosi brojeve sve dok ne unese 0. Program treba da ispiše koliko je unetih brojeva bilo pozitivno, a koliko negativno."
   ]
  },
  {
   "cell_type": "code",
   "execution_count": null,
   "metadata": {},
   "outputs": [
    {
     "name": "stdout",
     "output_type": "stream",
     "text": [
      "2\n",
      "Pozitivan broj!\n",
      "5\n",
      "Negativan broj!\n",
      "121\n",
      "Negativan broj!\n",
      "41\n",
      "Negativan broj!\n",
      "58\n",
      "Pozitivan broj!\n",
      "59\n",
      "Negativan broj!\n",
      "65\n",
      "Negativan broj!\n",
      "Unijeli ste 0 za prekid\n"
     ]
    }
   ],
   "source": [
    "\n",
    "\n",
    "while True:\n",
    "    unos = int(input(\"Unesite brojeve:  Ako želite prekinuti unos unesite broj 0. \"))\n",
    "    if unos % 2 == 0 :\n",
    "        if unos == 0:\n",
    "            print(\"Unijeli ste 0 za prekid!\")\n",
    "            break\n",
    "        print(unos)\n",
    "        print(\"Pozitivan broj!\")\n",
    "\n",
    "    if not unos % 2 == 0 :\n",
    "        print(unos)\n",
    "        print(\"Negativan broj!\")"
   ]
  },
  {
   "cell_type": "markdown",
   "metadata": {},
   "source": [
    "Zadatak 17: Napiši program koji ispisuje sve brojeve između 1 i 50 koji su deljivi sa 7, koristeći for petlju."
   ]
  },
  {
   "cell_type": "code",
   "execution_count": null,
   "metadata": {},
   "outputs": [
    {
     "name": "stdout",
     "output_type": "stream",
     "text": [
      "7\n",
      "14\n",
      "21\n",
      "28\n",
      "35\n",
      "42\n",
      "49\n"
     ]
    }
   ],
   "source": [
    "for brojevi in range (1, 51):\n",
    "    if brojevi % 7 == 0 :\n",
    "        print(brojevi)"
   ]
  },
  {
   "cell_type": "markdown",
   "metadata": {},
   "source": [
    "Zadatak 18: Korisnik unosi niz brojeva (razdvojenih razmakom). Program treba da ispiše taj niz obrnutim redosledom."
   ]
  },
  {
   "cell_type": "code",
   "execution_count": null,
   "metadata": {},
   "outputs": [
    {
     "name": "stdout",
     "output_type": "stream",
     "text": [
      "Obrnuti niz: ['5', '4', '3', '2', '1']\n"
     ]
    }
   ],
   "source": [
    "brojevi2 = input(\"Unesite niz brojeva razdvojenih razmakom: \").split()\n",
    "\n",
    "brojevi2 = brojevi2[::-1]\n",
    "\n",
    "print(\"Obrnuti niz:\" , brojevi2)"
   ]
  },
  {
   "cell_type": "markdown",
   "metadata": {},
   "source": [
    "Zadatak 19: Korisnik unosi 10 brojeva. Program treba da pronađe i ispiše najmanji i najveći broj iz unetih."
   ]
  },
  {
   "cell_type": "code",
   "execution_count": null,
   "metadata": {},
   "outputs": [
    {
     "name": "stdout",
     "output_type": "stream",
     "text": [
      "Najveći broj: 65\n",
      "Najmanni broj: 2\n"
     ]
    }
   ],
   "source": [
    "unos_korisnika = input(\"Unesite 10 brojeva odvojenih razmakom: \")\n",
    "\n",
    "\n",
    "try:\n",
    "    lista_brojeva = [int(broj) for broj in unos_korisnika.split()]\n",
    "    if not lista_brojeva:\n",
    "        print(\"Niste unijeli nijedan broj! \")\n",
    "    else:\n",
    "        print(\"Najveći broj:\" , max(lista_brojeva))\n",
    "        print(\"Najmanni broj:\" , min(lista_brojeva))\n",
    "\n",
    "except ValueError:\n",
    "    print(\"Molim unesite samo brojeve razdvojene razmakom! \")"
   ]
  },
  {
   "cell_type": "markdown",
   "metadata": {},
   "source": [
    "Zadatak 20: Korisnik unosi broj poena (0-100).\n",
    "\n",
    "Ako ima manje od 50, dobija ocenu 1.\n",
    "Ako ima 50-60, dobija ocenu 2.\n",
    "Ako ima 61-70, dobija ocenu 3.\n",
    "Ako ima 71-80, dobija ocenu 4.\n",
    "Ako ima 81-100, dobija ocenu 5."
   ]
  },
  {
   "cell_type": "code",
   "execution_count": 16,
   "metadata": {},
   "outputs": [
    {
     "name": "stdout",
     "output_type": "stream",
     "text": [
      "Dobili ste 3!\n"
     ]
    }
   ],
   "source": [
    "bodovi = int(input(\"Unesite broj bodova sa testa: \"))\n",
    "\n",
    "if bodovi < 50:\n",
    "    print(\"Dobili ste 1!\")\n",
    "elif bodovi >= 50 and bodovi < 60:\n",
    "    print(\"Dobili ste 2!\")\n",
    "elif bodovi >= 64 and bodovi < 70:\n",
    "    print(\"Dobili ste 3!\")\n",
    "elif bodovi >= 71 and bodovi < 80:\n",
    "    print(\"Dobili ste 4!\")\n",
    "else:\n",
    "    print(\"Dobili ste 5! Bravooo!\")"
   ]
  },
  {
   "cell_type": "markdown",
   "metadata": {},
   "source": [
    "Zadatak 21: Korisnik unosi lozinku.\n",
    "\n",
    "Ako ima manje od 6 karaktera, ispiši \"Lozinka je prekratka.\"\n",
    "Ako ima između 6 i 12 karaktera, ispiši \"Lozinka je solidna.\"\n",
    "Ako ima više od 12 karaktera, ispiši \"Lozinka je jaka!\""
   ]
  },
  {
   "cell_type": "code",
   "execution_count": 9,
   "metadata": {},
   "outputs": [
    {
     "name": "stdout",
     "output_type": "stream",
     "text": [
      "Lozinka je jaka!\n"
     ]
    }
   ],
   "source": [
    "lozinka = input(\"Unesite lozinku: \")\n",
    "\n",
    "if len(lozinka) < 6 :\n",
    "    print(\"Lozinka je prekratka!\")\n",
    "elif len(lozinka) >= 6 and len(lozinka) <= 12:\n",
    "    print(\"Lozinka je solidna!\")\n",
    "else:\n",
    "    print(\"Lozinka je jaka!\")"
   ]
  },
  {
   "cell_type": "markdown",
   "metadata": {},
   "source": [
    "Zadatak 21: Korisnik unosi dva datuma u formatu YYYY-MM-DD. Program računa koliko dana ima između ta dva datuma."
   ]
  },
  {
   "cell_type": "code",
   "execution_count": 4,
   "metadata": {},
   "outputs": [
    {
     "name": "stdout",
     "output_type": "stream",
     "text": [
      "Između unesenih dana ima 5 dana!\n"
     ]
    }
   ],
   "source": [
    "from datetime import datetime , timedelta\n",
    "\n",
    "datum1 = input(\"Unesite prvi datum u formatu YYYY-MM-DD: \")\n",
    "datum2 = input(\"Unesite drugi datum u formatu YYYY-MM-DD: \")\n",
    "\n",
    "datum1 = datetime.strptime(datum1, '%Y-%m-%d')\n",
    "datum1 = datetime.strftime(datum1, '%d')\n",
    "\n",
    "datum2 = datetime.strptime(datum2, '%Y-%m-%d')\n",
    "datum2 = datetime.strftime(datum2, '%d')\n",
    "\n",
    "datum1 = int(datum1)\n",
    "datum2 = int(datum2)\n",
    "\n",
    "nova_lista_brojeva = [datum1 , datum2]\n",
    "\n",
    "izračun = max(nova_lista_brojeva) - min(nova_lista_brojeva)\n",
    "print(f\"Između unesenih dana ima {izračun} dana!\")"
   ]
  },
  {
   "cell_type": "markdown",
   "metadata": {},
   "source": [
    "Zadatak 22: Program treba da ispita koji je danas dan i ispiše koliko dana je ostalo do subote."
   ]
  },
  {
   "cell_type": "code",
   "execution_count": null,
   "metadata": {},
   "outputs": [
    {
     "name": "stdout",
     "output_type": "stream",
     "text": [
      "Do subote je ostalo 3 dana.\n"
     ]
    }
   ],
   "source": [
    "from datetime import datetime\n",
    "\n",
    "danas = datetime.today().weekday()\n",
    "\n",
    "subota = 5\n",
    "\n",
    "if danas == subota:\n",
    "    print(\"Danas je subota!\")\n",
    "elif danas < subota:\n",
    "    print(f\"Do subote je ostalo {subota - danas} dana.\")\n",
    "else:\n",
    "    print(f\"Do subote je ostalo {7-(danas-subota)} dana.\")"
   ]
  },
  {
   "cell_type": "markdown",
   "metadata": {},
   "source": [
    "Zadatak 23: Korisnik unosi datum svog rođenja (format YYYY-MM-DD), a program izračunava koliko godina ima."
   ]
  },
  {
   "cell_type": "code",
   "execution_count": 11,
   "metadata": {},
   "outputs": [
    {
     "name": "stdout",
     "output_type": "stream",
     "text": [
      "Imate 25 godina.\n"
     ]
    }
   ],
   "source": [
    "import datetime\n",
    "\n",
    "# Unos datuma rođenja od korisnika\n",
    "datum_rodjenja = input(\"Unesite datum rođenja (YYYY-MM-DD): \")\n",
    "\n",
    "# Pretvaranje stringa u datum\n",
    "datum_rodjenja = datetime.datetime.strptime(datum_rodjenja, \"%Y-%m-%d\").date()\n",
    "\n",
    "# Dobijanje današnjeg datuma\n",
    "danas = datetime.date.today()\n",
    "\n",
    "# Računanje godina\n",
    "godine = danas.year - datum_rodjenja.year\n",
    "\n",
    "# Provera da li je korisnik već imao rođendan ove godine\n",
    "if (danas.month, danas.day) < (datum_rodjenja.month, datum_rodjenja.day):\n",
    "    godine -= 1\n",
    "\n",
    "# Ispis rezultata\n",
    "print(f\"Imate {godine} godina.\")\n"
   ]
  },
  {
   "cell_type": "markdown",
   "metadata": {},
   "source": [
    "Zadatak 24: Napiši program koji traži od korisnika da unese broj, a zatim ispisuje sve brojeve od tog broja do 1 koristeći while petlju."
   ]
  },
  {
   "cell_type": "code",
   "execution_count": 13,
   "metadata": {},
   "outputs": [
    {
     "name": "stdout",
     "output_type": "stream",
     "text": [
      "10\n",
      "9\n",
      "8\n",
      "7\n",
      "6\n",
      "5\n",
      "4\n",
      "3\n",
      "2\n",
      "1\n"
     ]
    }
   ],
   "source": [
    "uneseni_broj = int(input(\"Unesite broj: \"))\n",
    "\n",
    "while uneseni_broj >= 1:\n",
    "    print(uneseni_broj)\n",
    "    uneseni_broj -= 1"
   ]
  },
  {
   "cell_type": "markdown",
   "metadata": {},
   "source": [
    "Zadatak 25: Napiši program koji traži od korisnika da unese pozitivan broj. Ako korisnik unese negativan broj, program ga ponovo traži da unese validan broj (koristi while petlju za ponavljanje)."
   ]
  },
  {
   "cell_type": "code",
   "execution_count": 2,
   "metadata": {},
   "outputs": [
    {
     "name": "stdout",
     "output_type": "stream",
     "text": [
      "Unesite POZITIVAN broj!\n",
      "Unesite POZITIVAN broj!\n",
      "Unesite POZITIVAN broj!\n",
      "2\n"
     ]
    }
   ],
   "source": [
    "while True:\n",
    "    pozitivan_broj = int(input(\"Unesite pozitivan broj: \"))\n",
    "    if pozitivan_broj % 2 == 0:\n",
    "        print(pozitivan_broj)\n",
    "        break\n",
    "    elif pozitivan_broj % 2:\n",
    "        print(\"Unesite POZITIVAN broj!\")"
   ]
  },
  {
   "cell_type": "markdown",
   "metadata": {},
   "source": [
    "Zadatak 26: Korisnik unosi brojeve sve dok ne unese 0. Program zatim ispisuje zbir svih unetih brojeva (osim nule).\n",
    "\n"
   ]
  },
  {
   "cell_type": "code",
   "execution_count": 1,
   "metadata": {},
   "outputs": [
    {
     "name": "stdout",
     "output_type": "stream",
     "text": [
      "2\n",
      "4\n",
      "10\n"
     ]
    }
   ],
   "source": [
    "while True:\n",
    "    unos_pozitivnog_broja = int(input(\"Unesite pozitivne brojeve: Za prekid unesite 0!\"))\n",
    "    if unos_pozitivnog_broja == 0:\n",
    "        break\n",
    "    elif unos_pozitivnog_broja % 2 == 0:\n",
    "        print(unos_pozitivnog_broja)\n"
   ]
  },
  {
   "cell_type": "markdown",
   "metadata": {},
   "source": [
    "Zadatak 27: Tablica množenja\n",
    "Napiši program koji traži od korisnika da unese broj, a zatim ispisuje njegovu tablicu množenja od 1 do 10 koristeći for petlju"
   ]
  },
  {
   "cell_type": "code",
   "execution_count": 9,
   "metadata": {},
   "outputs": [
    {
     "name": "stdout",
     "output_type": "stream",
     "text": [
      "Tablica množenja za 7:\n",
      "7 x 1 = 7\n",
      "7 x 2 = 14\n",
      "7 x 3 = 21\n",
      "7 x 4 = 28\n",
      "7 x 5 = 35\n",
      "7 x 6 = 42\n",
      "7 x 7 = 49\n",
      "7 x 8 = 56\n",
      "7 x 9 = 63\n",
      "7 x 10 = 70\n"
     ]
    }
   ],
   "source": [
    "tablica_množenja = int(input(\"Unesite broj: \"))\n",
    "\n",
    "print(f\"Tablica množenja za {tablica_množenja}:\")\n",
    "\n",
    "for i in range(1, 11):\n",
    "    rezultat = tablica_množenja * i\n",
    "    print(f\"{tablica_množenja} x {i} = {rezultat}\")"
   ]
  },
  {
   "cell_type": "markdown",
   "metadata": {},
   "source": [
    "Zadatak 28: Napiši program koji ispisuje sve parne brojeve između 1 i 50 koristeći for petlju.\n",
    "\n"
   ]
  },
  {
   "cell_type": "code",
   "execution_count": 10,
   "metadata": {},
   "outputs": [
    {
     "name": "stdout",
     "output_type": "stream",
     "text": [
      "2\n",
      "4\n",
      "6\n",
      "8\n",
      "10\n",
      "12\n",
      "14\n",
      "16\n",
      "18\n",
      "20\n",
      "22\n",
      "24\n",
      "26\n",
      "28\n",
      "30\n",
      "32\n",
      "34\n",
      "36\n",
      "38\n",
      "40\n",
      "42\n",
      "44\n",
      "46\n",
      "48\n",
      "50\n"
     ]
    }
   ],
   "source": [
    "for i in range(1, 51):\n",
    "    if i % 2 == 0:\n",
    "        print(i)"
   ]
  },
  {
   "cell_type": "markdown",
   "metadata": {},
   "source": [
    "Zadatak 29: Korisnik unosi string, a program pomoću for petlje ispisuje taj string obrnutim redosledom."
   ]
  },
  {
   "cell_type": "code",
   "execution_count": null,
   "metadata": {},
   "outputs": [
    {
     "name": "stdout",
     "output_type": "stream",
     "text": [
      "caruk\n"
     ]
    }
   ],
   "source": [
    "string = input(\"Unesite riječ: \")\n",
    "\n",
    "string = string [::-1]\n",
    "print(string)"
   ]
  },
  {
   "cell_type": "markdown",
   "metadata": {},
   "source": [
    "Zadatak 30: Sabiranje dva broja\n",
    "Napiši funkciju saberi(a, b) koja prima dva broja i vraća njihov zbir."
   ]
  },
  {
   "cell_type": "code",
   "execution_count": null,
   "metadata": {},
   "outputs": [
    {
     "name": "stdout",
     "output_type": "stream",
     "text": [
      "Zbroj brojeva 10 i 25 je 35.\n"
     ]
    }
   ],
   "source": [
    "def saberi(a, b):\n",
    "    return a + b\n",
    "\n",
    "broj1 = int(input(\"Unesite prvi broj: \"))\n",
    "broj2 = int(input(\"Unesite drugi broj: \"))\n",
    "\n",
    "zbroj = saberi(broj1, broj2)\n",
    "print(f\"Zbroj brojeva {broj1} i {broj2} je {zbroj}.\")"
   ]
  },
  {
   "cell_type": "markdown",
   "metadata": {},
   "source": [
    "Zadatak 31: Provjeri je li broj paran ili neparan"
   ]
  },
  {
   "cell_type": "code",
   "execution_count": null,
   "metadata": {},
   "outputs": [
    {
     "name": "stdout",
     "output_type": "stream",
     "text": [
      "15 je negativan!\n"
     ]
    }
   ],
   "source": [
    "broj = int(input(\"Unesi broj: \"))\n",
    "if broj % 2 == 0:\n",
    "    print(f\"{broj} je pozitivan!\")\n",
    "else:\n",
    "    print(f\"{broj} je negativan!\")"
   ]
  },
  {
   "cell_type": "markdown",
   "metadata": {},
   "source": [
    "Zadatak 32: Provjeri je li broj pozitivan ili negativan."
   ]
  },
  {
   "cell_type": "code",
   "execution_count": 10,
   "metadata": {},
   "outputs": [
    {
     "name": "stdout",
     "output_type": "stream",
     "text": [
      "1 je pozitivan!\n"
     ]
    }
   ],
   "source": [
    "broj = int(input(\"Unesi broj: \"))\n",
    "if broj < 0:\n",
    "    print(f\"{broj} je negativan!\")\n",
    "elif broj > 0:\n",
    "    print(f\"{broj} je pozitivan!\")"
   ]
  },
  {
   "cell_type": "markdown",
   "metadata": {},
   "source": [
    "Zadatak 33: Provjeri je li broj djeljiv s 5."
   ]
  },
  {
   "cell_type": "code",
   "execution_count": 25,
   "metadata": {},
   "outputs": [
    {
     "name": "stdout",
     "output_type": "stream",
     "text": [
      "12 nije djeljiv sa 5!\n"
     ]
    }
   ],
   "source": [
    "broj = int(input(\"Unesi broj: \"))\n",
    "if broj % 5 == 0:\n",
    "    print(f\"{broj} je djeljiv sa 5!\")\n",
    "elif broj % 5:\n",
    "    print(f\"{broj} nije djeljiv sa 5!\")"
   ]
  },
  {
   "cell_type": "markdown",
   "metadata": {},
   "source": [
    "Zadatak 34: Unesi godine korisnika i provjeri može li glasati (18+ godina)."
   ]
  },
  {
   "cell_type": "code",
   "execution_count": 16,
   "metadata": {},
   "outputs": [
    {
     "name": "stdout",
     "output_type": "stream",
     "text": [
      "Možete glasati!\n"
     ]
    }
   ],
   "source": [
    "godine = int(input(\"Unesite svoje godine: \"))\n",
    "if godine >= 18:\n",
    "    print(\"Možete glasati!\")\n",
    "else:\n",
    "    print(\"Ne možete glasati! \")"
   ]
  },
  {
   "cell_type": "markdown",
   "metadata": {},
   "source": [
    "Zadatak 35: Odredi veći od dva broja"
   ]
  },
  {
   "cell_type": "code",
   "execution_count": null,
   "metadata": {},
   "outputs": [
    {
     "name": "stdout",
     "output_type": "stream",
     "text": [
      "10 je manji od 20!\n"
     ]
    }
   ],
   "source": [
    "\n",
    "broj1 = int(input(\"Unesi prvi broj: \"))\n",
    "broj2 = int(input(\"Unesi drugi broj: \"))\n",
    "if broj1 < broj2:\n",
    "    print(f\"{broj1} je manji od {broj2}!\")\n",
    "elif broj1 > broj2:\n",
    "    print(f\"{broj1} je veči od {broj2}! \")"
   ]
  },
  {
   "cell_type": "markdown",
   "metadata": {},
   "source": [
    "Jos jedan primjer gornjeg zadatka samo sa listom."
   ]
  },
  {
   "cell_type": "code",
   "execution_count": null,
   "metadata": {},
   "outputs": [
    {
     "name": "stdout",
     "output_type": "stream",
     "text": [
      "Najveći broj: 4\n",
      "Najmanni broj: 2\n"
     ]
    }
   ],
   "source": [
    "unos_korisnika = input(\"Unesite 2 broj odvojena razmakom\")\n",
    "\n",
    "lista_brojeva = [int(broj) for broj in unos_korisnika.split()]\n",
    "if not lista_brojeva:\n",
    "    print(\"Niste unijeli nijedan broj! \")\n",
    "else:\n",
    "    print(\"Najveći broj:\" , max(lista_brojeva))\n",
    "    print(\"Najmanni broj:\" , min(lista_brojeva))"
   ]
  },
  {
   "cell_type": "markdown",
   "metadata": {},
   "source": [
    "Zadatak 36: Provjeri je li broj djeljiv s 3 i 7"
   ]
  },
  {
   "cell_type": "code",
   "execution_count": 30,
   "metadata": {},
   "outputs": [
    {
     "name": "stdout",
     "output_type": "stream",
     "text": [
      "9 je djeljiv sa 3!\n"
     ]
    }
   ],
   "source": [
    "broj = int(input(\"Unesi broj: \"))\n",
    "if broj % 3 == 0:\n",
    "    print(f\"{broj} je djeljiv sa 3!\")\n",
    "elif broj % 7 == 0:\n",
    "    print(f\"{broj} je djeljiv sa 7!\")\n",
    "else:\n",
    "    print(\"Broj nije djeljiv sa 3 i 7!\")"
   ]
  },
  {
   "cell_type": "markdown",
   "metadata": {},
   "source": [
    "Zadatk 37: Provjeri je li godina prijestupna."
   ]
  },
  {
   "cell_type": "code",
   "execution_count": 33,
   "metadata": {},
   "outputs": [
    {
     "name": "stdout",
     "output_type": "stream",
     "text": [
      "Prijestupna godina!\n"
     ]
    }
   ],
   "source": [
    "unos_godine = int(input(\"Unesite godinu: \"))\n",
    "if unos_godine % 4 == 0:\n",
    "    print(\"Prijestupna godina!\")\n",
    "else:\n",
    "    print(\"Nije prijestupna!\")"
   ]
  },
  {
   "cell_type": "markdown",
   "metadata": {},
   "source": [
    "Zadatak 38: Unesi lozinku i provjeri odgovara li prethodno definiranoj lozinci."
   ]
  },
  {
   "cell_type": "code",
   "execution_count": 36,
   "metadata": {},
   "outputs": [
    {
     "name": "stdout",
     "output_type": "stream",
     "text": [
      "Unjeli ste krivu lozinku!\n",
      "Ulogirani ste!\n"
     ]
    }
   ],
   "source": [
    "while True:\n",
    "    unesena_lozinka = input(\"Unesite lozinku\")\n",
    "    if not unesena_lozinka == 'lozinka':\n",
    "        print(\"Unjeli ste krivu lozinku!\")\n",
    "    else:\n",
    "        unesena_lozinka == 'lozinka'\n",
    "        print(\"Ulogirani ste!\")\n",
    "        break"
   ]
  },
  {
   "cell_type": "markdown",
   "metadata": {},
   "source": [
    "Zadatak 39: Provjeri je li uneseni znak samoglasnik ili suglasnik."
   ]
  },
  {
   "cell_type": "code",
   "execution_count": 40,
   "metadata": {},
   "outputs": [
    {
     "name": "stdout",
     "output_type": "stream",
     "text": [
      "Znak a je samoglasnik!\n"
     ]
    }
   ],
   "source": [
    "a = 'a'\n",
    "e = 'e'\n",
    "i = 'i'\n",
    "o = 'o'\n",
    "u = 'u'\n",
    "\n",
    "znak = input(\"Unesite znak: \")\n",
    "if znak == a and e and i and o and u:\n",
    "    print(f\"Znak {znak} je samoglasnik!\")\n",
    "else:\n",
    "    print(f\"Znak {znak} je suglasnik! \")"
   ]
  },
  {
   "cell_type": "markdown",
   "metadata": {},
   "source": [
    "Zadatak 40: Odredi najveći od tri broja."
   ]
  },
  {
   "cell_type": "code",
   "execution_count": 43,
   "metadata": {},
   "outputs": [
    {
     "name": "stdout",
     "output_type": "stream",
     "text": [
      "[5, 4, 8]\n",
      "Najveći broj: 8\n"
     ]
    }
   ],
   "source": [
    "unos_korisnika = input(\"Unesite 3 broj odvojena razmakom\")\n",
    "\n",
    "lista_brojeva = [int(broj) for broj in unos_korisnika.split()]\n",
    "if not lista_brojeva:\n",
    "    print(\"Niste unijeli nijedan broj! \")\n",
    "else:\n",
    "    print(lista_brojeva)\n",
    "    print(\"Najveći broj:\" , max(lista_brojeva))\n"
   ]
  },
  {
   "cell_type": "markdown",
   "metadata": {},
   "source": [
    "Zadatak 41: Kreiraj sustav ocjenjivanja:\n",
    "90-100: A\n",
    "80-89: B\n",
    "70-79: C\n",
    "60-69: D\n",
    "Ispod 60: F"
   ]
  },
  {
   "cell_type": "code",
   "execution_count": 10,
   "metadata": {},
   "outputs": [
    {
     "name": "stdout",
     "output_type": "stream",
     "text": [
      "Dobili ste ocjenu B\n"
     ]
    }
   ],
   "source": [
    "unos = int(input(\"Unesite broj bodova sa testa: \"))\n",
    "if unos >= 90 :\n",
    "    print(\"Dobili ste ocjenu A!\")\n",
    "elif unos >= 80 and unos <= 89:\n",
    "    print(\"Dobili ste ocjenu B\")\n",
    "elif unos >= 70 and unos <= 79:\n",
    "    print(\"Dobili ste ocjenu C!\")\n",
    "elif unos >= 60 and unos <= 69:\n",
    "    print(\"Dobili ste ocjenu D!\")\n",
    "else:\n",
    "    print(\"Dobili ste ocjenu F!\")"
   ]
  },
  {
   "cell_type": "markdown",
   "metadata": {},
   "source": [
    "# FOR , WHILE , LISTE , TUPLE"
   ]
  },
  {
   "cell_type": "markdown",
   "metadata": {},
   "source": [
    "Zadatak 1: Zbir elemenata liste\n",
    "\n",
    "Napravi listu brojeva i pomoću for petlje izračunaj njihov zbir.\n"
   ]
  },
  {
   "cell_type": "code",
   "execution_count": null,
   "metadata": {},
   "outputs": [
    {
     "name": "stdout",
     "output_type": "stream",
     "text": [
      "Zbroj brojeva u listi je: 25\n"
     ]
    }
   ],
   "source": [
    "brojevi = [1, 7, 8, 5, 4]\n",
    "zbroj = 0\n",
    "for broj in brojevi:\n",
    "    zbroj += broj\n",
    "print(f\"Zbroj brojeva u listi je: {zbroj}\")"
   ]
  },
  {
   "cell_type": "markdown",
   "metadata": {},
   "source": [
    "Zadatak 2: Najveći broj u listi\n",
    "\n",
    "Napravi listu brojeva i pronađi najveći broj koristeći for petlju."
   ]
  },
  {
   "cell_type": "code",
   "execution_count": null,
   "metadata": {},
   "outputs": [
    {
     "name": "stdout",
     "output_type": "stream",
     "text": [
      "Največi broj iz vašeg unosa je: 550\n"
     ]
    }
   ],
   "source": [
    "unos_brojeva = input(\"Unesite brojeve odvojene razmakom: \")\n",
    "lista_brojeva = [int(broj) for broj in unos_brojeva.split()]\n",
    "najveci_broj = max(lista_brojeva)\n",
    "print(f\"Največi broj iz vašeg unosa je: {najveci_broj}\")"
   ]
  },
  {
   "cell_type": "markdown",
   "metadata": {},
   "source": [
    "Zadatak 3: Prebrojavanje parnih brojeva\n",
    "\n",
    "Napravi listu brojeva i prebroj koliko ima parnih brojeva koristeći for petlju."
   ]
  },
  {
   "cell_type": "code",
   "execution_count": null,
   "metadata": {},
   "outputs": [
    {
     "name": "stdout",
     "output_type": "stream",
     "text": [
      "U listi ima 6 parnih brojeva.\n"
     ]
    }
   ],
   "source": [
    "brojevi = [2, 6, 8, 15, 11, 12, 10, 86]\n",
    "\n",
    "broj_parnih = 0\n",
    "\n",
    "# Prolazak kroz listu\n",
    "for broj in brojevi:\n",
    "    if broj % 2 == 0: \n",
    "        broj_parnih += 1\n",
    "\n",
    "print(f\"U listi ima {broj_parnih} parnih brojeva.\")"
   ]
  },
  {
   "cell_type": "markdown",
   "metadata": {},
   "source": [
    "Zadatak 4: Ispis elemenata tuple-a\n",
    "\n",
    "Definiši tuple sa nekoliko elemenata i pomoću for petlje ispiši svaki element."
   ]
  },
  {
   "cell_type": "code",
   "execution_count": null,
   "metadata": {},
   "outputs": [
    {
     "name": "stdout",
     "output_type": "stream",
     "text": [
      "jabuka\n",
      "banana\n",
      "naranča\n",
      "kruška\n",
      "breskva\n"
     ]
    }
   ],
   "source": [
    "# Definiranje tuple-a\n",
    "voće = (\"jabuka\", \"banana\", \"naranča\", \"kruška\", \"breskva\")\n",
    "\n",
    "# Prolazak kroz tuple i ispis elemenata\n",
    "for i in voće:\n",
    "    print(i)"
   ]
  },
  {
   "cell_type": "markdown",
   "metadata": {},
   "source": [
    "Zadatak 5: Kreiranje liste kvadrata\n",
    "\n",
    "Napravi listu brojeva od 1 do 10 i pomoću for petlje kreiraj novu listu koja sadrži kvadrate tih brojeva."
   ]
  },
  {
   "cell_type": "code",
   "execution_count": null,
   "metadata": {},
   "outputs": [
    {
     "name": "stdout",
     "output_type": "stream",
     "text": [
      "Lista kvadrata: [1, 4, 9, 16, 25, 36, 49, 64, 81, 100]\n"
     ]
    }
   ],
   "source": [
    "# Lista brojeva od 1 do 10\n",
    "brojevi = list(range(1, 11))\n",
    "\n",
    "# Nova lista koja će sadržavati kvadrate brojeva\n",
    "kvadrati = []\n",
    "\n",
    "# Prolazak kroz listu i računanje kvadrata\n",
    "for broj in brojevi:\n",
    "    kvadrati.append(broj ** 2)  # Dodajemo kvadrat broja u novu listu\n",
    "\n",
    "# Ispis rezultata\n",
    "print(\"Lista kvadrata:\", kvadrati)"
   ]
  },
  {
   "cell_type": "markdown",
   "metadata": {},
   "source": [
    "Zadatak 6: Unos brojeva i računanje proseka\n",
    "\n",
    "Korisnik unosi brojeve sve dok ne unese 0. Svi brojevi se smeštaju u listu, a zatim izračunaj njihov prosek."
   ]
  },
  {
   "cell_type": "code",
   "execution_count": 7,
   "metadata": {},
   "outputs": [
    {
     "name": "stdout",
     "output_type": "stream",
     "text": [
      "Prosjek unjetih brojeva je:  3.167\n"
     ]
    }
   ],
   "source": [
    "brojevi = []\n",
    "\n",
    "while True:\n",
    "    broj = int(input(\"Unesite broj (0 za kraj): \"))\n",
    "    if broj == 0:\n",
    "        break  \n",
    "    brojevi.append(broj)  # Dodajemo broj u listu\n",
    "\n",
    "# Provjera da li ima unjetih brojeva prije računanja prosjeka\n",
    "if len(brojevi) > 0:\n",
    "    prosjek = sum(brojevi) / len(brojevi)  # Računanje prosjeka\n",
    "    print(f\"Prosjek unjetih brojeva je: {prosjek: .3f}\") # : .3f -> ograničava na 3 decimale\n",
    "else:\n",
    "    print(\"Niste unjeli nijedan broj osim nule.\")\n"
   ]
  },
  {
   "cell_type": "markdown",
   "metadata": {},
   "source": [
    "Zadatak 7: Obrnuti ispis liste\n",
    "\n",
    "Napravi listu reči i pomoću while petlje ispiši ih obrnutim redosledom."
   ]
  },
  {
   "cell_type": "code",
   "execution_count": 1,
   "metadata": {},
   "outputs": [
    {
     "name": "stdout",
     "output_type": "stream",
     "text": [
      "breskva\n",
      "kruška\n",
      "trešnja\n",
      "banana\n",
      "jabuka\n"
     ]
    }
   ],
   "source": [
    "riječi = [\"jabuka\", \"banana\", \"trešnja\", \"kruška\", \"breskva\"]\n",
    "\n",
    "# Postavljamo indeks na zadnji element liste\n",
    "indeks = len(riječi) - 1  \n",
    "\n",
    "# While petlja koja ide od kraja ka početku\n",
    "while indeks >= 0:\n",
    "    print(riječi[indeks])  \n",
    "    indeks -= 1  # Smanjujemo indeks za 1 u svakoj iteraciji\n"
   ]
  },
  {
   "cell_type": "markdown",
   "metadata": {},
   "source": [
    "Zadatak 8: Pronalaženje broja u listi\n",
    "\n",
    "Napravi listu brojeva i koristi while petlju da proveri da li se određeni broj nalazi u listi."
   ]
  },
  {
   "cell_type": "code",
   "execution_count": 3,
   "metadata": {},
   "outputs": [
    {
     "name": "stdout",
     "output_type": "stream",
     "text": [
      "Broj 3 se nalazi u listi na indeksu 0.\n"
     ]
    }
   ],
   "source": [
    "brojevi = [3, 7, 12, 5, 9, 1, 15]\n",
    "\n",
    "# Broj koji tražimo\n",
    "traženi_broj = int(input(\"Unesite broj koji želite pronaći: \"))\n",
    "\n",
    "# Indeks postavljamo na početak liste\n",
    "indeks = 0\n",
    "\n",
    "# Postavljamo promjenljivu koja prati da li smo pronašli broj\n",
    "pronađen = False\n",
    "\n",
    "# While petlja prolazi kroz listu dok ne pronađe broj ili ne dođe do kraja liste\n",
    "while indeks < len(brojevi):\n",
    "    if brojevi[indeks] == traženi_broj:\n",
    "        pronađen = True\n",
    "        break  # Prekidamo petlju jer smo pronašli broj\n",
    "    indeks += 1  # Povećavamo indeks za 1\n",
    "\n",
    "# Ispis rezultata\n",
    "if pronađen:\n",
    "    print(f\"Broj {traženi_broj} se nalazi u listi na indeksu {indeks}.\")\n",
    "else:\n",
    "    print(f\"Broj {traženi_broj} nije pronađen u listi.\")\n"
   ]
  },
  {
   "cell_type": "markdown",
   "metadata": {},
   "source": [
    "Zadatak 9: Zadatak s while petljom: Napiši program koji ispisuje sve brojeve od 1 do 10 pomoću while petlje."
   ]
  },
  {
   "cell_type": "code",
   "execution_count": 1,
   "metadata": {},
   "outputs": [
    {
     "name": "stdout",
     "output_type": "stream",
     "text": [
      "1\n",
      "2\n",
      "3\n",
      "4\n",
      "5\n",
      "6\n",
      "7\n",
      "8\n",
      "9\n",
      "10\n"
     ]
    }
   ],
   "source": [
    "brojevi = 0\n",
    "while brojevi < 10:\n",
    "    brojevi += 1\n",
    "    print(brojevi)"
   ]
  },
  {
   "cell_type": "markdown",
   "metadata": {},
   "source": [
    "Zadatak 10: Zadatak s for petljom: Napiši program koji ispisuje sve brojeve od 1 do 100 koji su djeljivi s 3 pomoću for petlje."
   ]
  },
  {
   "cell_type": "code",
   "execution_count": 2,
   "metadata": {},
   "outputs": [
    {
     "name": "stdout",
     "output_type": "stream",
     "text": [
      "3\n",
      "6\n",
      "9\n",
      "12\n",
      "15\n",
      "18\n",
      "21\n",
      "24\n",
      "27\n",
      "30\n",
      "33\n",
      "36\n",
      "39\n",
      "42\n",
      "45\n",
      "48\n",
      "51\n",
      "54\n",
      "57\n",
      "60\n",
      "63\n",
      "66\n",
      "69\n",
      "72\n",
      "75\n",
      "78\n",
      "81\n",
      "84\n",
      "87\n",
      "90\n",
      "93\n",
      "96\n",
      "99\n"
     ]
    }
   ],
   "source": [
    "for broj in range(1,100):\n",
    "    if broj % 3 == 0:\n",
    "        print(broj)"
   ]
  },
  {
   "cell_type": "markdown",
   "metadata": {},
   "source": [
    "Zadatak 11: Zadatak s while petljom: Napiši program koji traži korisnika da unese broj. Program treba ponavljati unos sve dok korisnik ne unese broj veći od 10.\n",
    "\n"
   ]
  },
  {
   "cell_type": "code",
   "execution_count": null,
   "metadata": {},
   "outputs": [
    {
     "name": "stdout",
     "output_type": "stream",
     "text": [
      "Unjeli ste broj 9 koji je manji od 10!\n",
      "Unjeli ste broj 8 koji je manji od 10!\n",
      "Unjeli ste broj 7 koji je manji od 10!\n",
      "Unjeli ste broj 10\n"
     ]
    }
   ],
   "source": [
    "while True:\n",
    "    unos_broja = int(input(\"Unesite broj veči od 10: \"))\n",
    "    if unos_broja < 10:\n",
    "        print(f\"Unjeli ste broj {unos_broja} koji je manji od 10!\")\n",
    "    if unos_broja >= 10:\n",
    "        print(f\"Unjeli ste broj {unos_broja} .\")\n",
    "        break\n"
   ]
  },
  {
   "cell_type": "markdown",
   "metadata": {},
   "source": [
    "Zadatak 12: Zadatak s for petljom: Napiši program koji izračunava i ispisuje faktorijel broja n (broj koji korisnik unese) koristeći for petlju."
   ]
  },
  {
   "cell_type": "code",
   "execution_count": 13,
   "metadata": {},
   "outputs": [
    {
     "name": "stdout",
     "output_type": "stream",
     "text": [
      "Faktorijel broja 7 je 5040\n"
     ]
    }
   ],
   "source": [
    "n = int(input(\"Unesite broj za izračunavanje faktorijela: \"))\n",
    "\n",
    "# Inicijalizacija varijable za faktorijel\n",
    "faktorijel = 1\n",
    "\n",
    "# Računanje faktorijela pomoću for petlje\n",
    "for i in range(1, n + 1):\n",
    "    faktorijel *= i\n",
    "\n",
    "# Ispis rezultata\n",
    "print(f\"Faktorijel broja {n} je {faktorijel}\")\n"
   ]
  },
  {
   "cell_type": "markdown",
   "metadata": {},
   "source": [
    "Zadatak 13: Zadatak s kombinacijom while i for petlji: Napiši program koji ispisuje tablicu množenja od 1 do 10 koristeći for petlju unutar while petlje. Program treba prvo ispisivati broj od 1 do 10, a zatim za svaki broj ispisati njegove umnoške od 1 do 10."
   ]
  },
  {
   "cell_type": "code",
   "execution_count": null,
   "metadata": {},
   "outputs": [
    {
     "name": "stdout",
     "output_type": "stream",
     "text": [
      "Tablica množenja za 1:\n",
      "1 x 1 = 1\n",
      "1 x 2 = 2\n",
      "1 x 3 = 3\n",
      "1 x 4 = 4\n",
      "1 x 5 = 5\n",
      "1 x 6 = 6\n",
      "1 x 7 = 7\n",
      "1 x 8 = 8\n",
      "1 x 9 = 9\n",
      "1 x 10 = 10\n",
      "\n",
      "Tablica množenja za 2:\n",
      "2 x 1 = 2\n",
      "2 x 2 = 4\n",
      "2 x 3 = 6\n",
      "2 x 4 = 8\n",
      "2 x 5 = 10\n",
      "2 x 6 = 12\n",
      "2 x 7 = 14\n",
      "2 x 8 = 16\n",
      "2 x 9 = 18\n",
      "2 x 10 = 20\n",
      "\n",
      "Tablica množenja za 3:\n",
      "3 x 1 = 3\n",
      "3 x 2 = 6\n",
      "3 x 3 = 9\n",
      "3 x 4 = 12\n",
      "3 x 5 = 15\n",
      "3 x 6 = 18\n",
      "3 x 7 = 21\n",
      "3 x 8 = 24\n",
      "3 x 9 = 27\n",
      "3 x 10 = 30\n",
      "\n",
      "Tablica množenja za 4:\n",
      "4 x 1 = 4\n",
      "4 x 2 = 8\n",
      "4 x 3 = 12\n",
      "4 x 4 = 16\n",
      "4 x 5 = 20\n",
      "4 x 6 = 24\n",
      "4 x 7 = 28\n",
      "4 x 8 = 32\n",
      "4 x 9 = 36\n",
      "4 x 10 = 40\n",
      "\n",
      "Tablica množenja za 5:\n",
      "5 x 1 = 5\n",
      "5 x 2 = 10\n",
      "5 x 3 = 15\n",
      "5 x 4 = 20\n",
      "5 x 5 = 25\n",
      "5 x 6 = 30\n",
      "5 x 7 = 35\n",
      "5 x 8 = 40\n",
      "5 x 9 = 45\n",
      "5 x 10 = 50\n",
      "\n",
      "Tablica množenja za 6:\n",
      "6 x 1 = 6\n",
      "6 x 2 = 12\n",
      "6 x 3 = 18\n",
      "6 x 4 = 24\n",
      "6 x 5 = 30\n",
      "6 x 6 = 36\n",
      "6 x 7 = 42\n",
      "6 x 8 = 48\n",
      "6 x 9 = 54\n",
      "6 x 10 = 60\n",
      "\n",
      "Tablica množenja za 7:\n",
      "7 x 1 = 7\n",
      "7 x 2 = 14\n",
      "7 x 3 = 21\n",
      "7 x 4 = 28\n",
      "7 x 5 = 35\n",
      "7 x 6 = 42\n",
      "7 x 7 = 49\n",
      "7 x 8 = 56\n",
      "7 x 9 = 63\n",
      "7 x 10 = 70\n",
      "\n",
      "Tablica množenja za 8:\n",
      "8 x 1 = 8\n",
      "8 x 2 = 16\n",
      "8 x 3 = 24\n",
      "8 x 4 = 32\n",
      "8 x 5 = 40\n",
      "8 x 6 = 48\n",
      "8 x 7 = 56\n",
      "8 x 8 = 64\n",
      "8 x 9 = 72\n",
      "8 x 10 = 80\n",
      "\n",
      "Tablica množenja za 9:\n",
      "9 x 1 = 9\n",
      "9 x 2 = 18\n",
      "9 x 3 = 27\n",
      "9 x 4 = 36\n",
      "9 x 5 = 45\n",
      "9 x 6 = 54\n",
      "9 x 7 = 63\n",
      "9 x 8 = 72\n",
      "9 x 9 = 81\n",
      "9 x 10 = 90\n",
      "\n",
      "Tablica množenja za 10:\n",
      "10 x 1 = 10\n",
      "10 x 2 = 20\n",
      "10 x 3 = 30\n",
      "10 x 4 = 40\n",
      "10 x 5 = 50\n",
      "10 x 6 = 60\n",
      "10 x 7 = 70\n",
      "10 x 8 = 80\n",
      "10 x 9 = 90\n",
      "10 x 10 = 100\n",
      "\n"
     ]
    }
   ],
   "source": [
    "# Inicijalizacija broja za while petlju\n",
    "broj = 1\n",
    "\n",
    "# Dok broj ne dođe do 11 (do 10 uključujući)\n",
    "while broj <= 10:\n",
    "    print(f\"Tablica množenja za {broj}:\")\n",
    "    \n",
    "    # For petlja za ispisivanje umnožaka broja od 1 do 10\n",
    "    for i in range(1, 11):\n",
    "        print(f\"{broj} x {i} = {broj * i}\")\n",
    "    \n",
    "    # Povećavamo broj za 1\n",
    "    broj += 1\n",
    "    print()  # Novi red nakon svake tablice množenja"
   ]
  },
  {
   "cell_type": "markdown",
   "metadata": {},
   "source": [
    "# Vježba svega po malo!"
   ]
  },
  {
   "cell_type": "markdown",
   "metadata": {},
   "source": [
    "Provjeri je li znak veliko slovo, malo slovo, broj ili specijalni znak"
   ]
  },
  {
   "cell_type": "code",
   "execution_count": 14,
   "metadata": {},
   "outputs": [
    {
     "name": "stdout",
     "output_type": "stream",
     "text": [
      "Uneseni znak je veliko slovo.\n"
     ]
    }
   ],
   "source": [
    "# Unos jednog znaka od korisnika\n",
    "znak = input(\"Unesite jedan znak: \")\n",
    "\n",
    "# Provjera je li znak veliko slovo\n",
    "if znak.isupper():\n",
    "    print(\"Uneseni znak je veliko slovo.\")\n",
    "# Provjera je li znak malo slovo\n",
    "elif znak.islower():\n",
    "    print(\"Uneseni znak je malo slovo.\")\n",
    "# Provjera je li znak broj\n",
    "elif znak.isdigit():\n",
    "    print(\"Uneseni znak je broj.\")\n",
    "# Ako nije ni jedno od gore navedenih, to je specijalni znak\n",
    "else:\n",
    "    print(\"Uneseni znak je specijalni znak.\")\n"
   ]
  },
  {
   "cell_type": "code",
   "execution_count": 6,
   "metadata": {},
   "outputs": [
    {
     "name": "stdout",
     "output_type": "stream",
     "text": [
      "Broj je neparan\n"
     ]
    }
   ],
   "source": [
    "from funkcije import je_li_paran\n",
    "\n",
    "unos = int(input(\"Unesi broj: \"))\n",
    "\n",
    "if je_li_paran(unos):  # Ako funkcija vrati True\n",
    "    print(\"Broj je paran\")\n",
    "else:\n",
    "    print(\"Broj je neparan\")\n",
    "\n",
    "\n",
    "\n",
    "\n"
   ]
  },
  {
   "cell_type": "markdown",
   "metadata": {},
   "source": [
    "Napiši funkciju koja računa faktorijel broja."
   ]
  },
  {
   "cell_type": "code",
   "execution_count": null,
   "metadata": {},
   "outputs": [
    {
     "name": "stdout",
     "output_type": "stream",
     "text": [
      "120\n"
     ]
    }
   ],
   "source": [
    "def faktorijel(n):\n",
    "    rezultat = 1\n",
    "    for i in range(2, n + 1):\n",
    "        rezultat *= i\n",
    "    return rezultat\n",
    "\n",
    "print(faktorijel(5))  "
   ]
  },
  {
   "cell_type": "markdown",
   "metadata": {},
   "source": [
    "Napiši funkciju koja provjerava da li je broj prost."
   ]
  },
  {
   "cell_type": "code",
   "execution_count": null,
   "metadata": {},
   "outputs": [
    {
     "name": "stdout",
     "output_type": "stream",
     "text": [
      "False\n",
      "True\n",
      "True\n",
      "False\n"
     ]
    }
   ],
   "source": [
    "def je_prost(broj):\n",
    "    if broj < 2:\n",
    "        return False\n",
    "    for i in range(2, int(broj**0.5) + 1):  # Provjera do √broj\n",
    "        if broj % i == 0:\n",
    "            return False\n",
    "    return True\n",
    "\n",
    "print(je_prost(4))   \n",
    "print(je_prost(7))   \n",
    "print(je_prost(13))  \n",
    "print(je_prost(1))   "
   ]
  },
  {
   "cell_type": "code",
   "execution_count": 37,
   "metadata": {},
   "outputs": [],
   "source": [
    "def input_int(prompt='unesi cijeli broj'):\n",
    "    while True:\n",
    "        broj = input(prompt)\n",
    "        if broj.isnumeric():\n",
    "            broj = int(broj)\n",
    "            break\n",
    "    return broj"
   ]
  },
  {
   "cell_type": "code",
   "execution_count": 1,
   "metadata": {},
   "outputs": [
    {
     "name": "stdout",
     "output_type": "stream",
     "text": [
      "2 ♠\n",
      "3 ♠\n",
      "4 ♠\n",
      "5 ♠\n",
      "6 ♠\n",
      "7 ♠\n",
      "8 ♠\n",
      "9 ♠\n",
      "10 ♠\n",
      "J ♠\n",
      "Q ♠\n",
      "K ♠\n",
      "A ♠\n",
      "2 ♥\n",
      "3 ♥\n",
      "4 ♥\n",
      "5 ♥\n",
      "6 ♥\n",
      "7 ♥\n",
      "8 ♥\n",
      "9 ♥\n",
      "10 ♥\n",
      "J ♥\n",
      "Q ♥\n",
      "K ♥\n",
      "A ♥\n",
      "2 ♦\n",
      "3 ♦\n",
      "4 ♦\n",
      "5 ♦\n",
      "6 ♦\n",
      "7 ♦\n",
      "8 ♦\n",
      "9 ♦\n",
      "10 ♦\n",
      "J ♦\n",
      "Q ♦\n",
      "K ♦\n",
      "A ♦\n",
      "2 ♣\n",
      "3 ♣\n",
      "4 ♣\n",
      "5 ♣\n",
      "6 ♣\n",
      "7 ♣\n",
      "8 ♣\n",
      "9 ♣\n",
      "10 ♣\n",
      "J ♣\n",
      "Q ♣\n",
      "K ♣\n",
      "A ♣\n"
     ]
    }
   ],
   "source": [
    "from funkcije import kreiraj_špil_karata\n",
    "\n",
    "kreiraj_špil_karata()"
   ]
  },
  {
   "cell_type": "code",
   "execution_count": 2,
   "metadata": {},
   "outputs": [
    {
     "data": {
      "text/plain": [
       "[['3♥', '6♠', '7♣', '8♣', '5♥'],\n",
       " ['10♠', 'K♥', '7♥', '5♣', '3♦'],\n",
       " ['6♣', '10♦', '3♠', 'K♦', 'J♠'],\n",
       " ['A♦', '9♦', '4♥', 'A♠', 'K♣'],\n",
       " ['2♠', '5♦', '8♥', '3♣', 'A♥']]"
      ]
     },
     "execution_count": 2,
     "metadata": {},
     "output_type": "execute_result"
    }
   ],
   "source": [
    "import random\n",
    "TIP_ŠPILA = '♠♥♦♣'\n",
    "TIP_VRIJEDNOSTI = '23456789XJQKA'\n",
    "\n",
    "def kreiraj_špil_karata() -> list:\n",
    "    \"\"\" \n",
    "    +Funkcija stvara kombinacije svih vrijednosti sa svim tipovima špila. \n",
    "    +Kombinacije sprema u listu i vraća listu van.\n",
    "    +Kombinacije izgledaju kao: '2♦'\n",
    "    +Vrijednost x se zamjeni brojem 10: 10♥ .\n",
    "\n",
    "    Ne učitava parametre neko koristi konstante TIP_ŠPILA i TIP_VRIJEDNOSTI\n",
    "\n",
    "    Parametars\n",
    "    ----------\n",
    "\n",
    "    Returns\n",
    "    -------\n",
    "    list\n",
    "        Lista karata kao stringovi\n",
    "    \"\"\"\n",
    "    špil_karata = []\n",
    "    for špil in TIP_ŠPILA:\n",
    "        for vrijednost in TIP_VRIJEDNOSTI:\n",
    "            if vrijednost == 'X':\n",
    "                vrijednost = '10'\n",
    "            karta = vrijednost + špil\n",
    "            špil_karata.append(karta)\n",
    "    return špil_karata\n",
    "\n",
    "\n",
    "def izvuci_kartu(cijeli_špil: list) -> str:\n",
    "    \"\"\"\n",
    "    +Funkcija uzme listu karata,\n",
    "    +odredi jednu iz liste.\n",
    "    +Makne tu kartu iz liste\n",
    "    +te vrati kartu i listu karata\n",
    "\n",
    "    Parameters\n",
    "    ----------\n",
    "    karte: list\n",
    "        Lista karata\n",
    "\n",
    "    Returns\n",
    "    -------\n",
    "    str, list\n",
    "        Izvučena karta i preostale karte\n",
    "    \"\"\"\n",
    "    jedna_karta = random.choice(cijeli_špil)\n",
    "    cijeli_špil.remove(jedna_karta)\n",
    "    return jedna_karta, cijeli_špil\n",
    "    \n",
    "def podjeli_karte_igraču(špil: list) -> list:\n",
    "    \"\"\"\n",
    "    5 puta izvuče kartu i\n",
    "    vrati listu karata koja ide igraču\n",
    "\n",
    "    Parametars\n",
    "    ----------\n",
    "    špil: list\n",
    "        Lista karata\n",
    "    Returns\n",
    "    -------\n",
    "    list, list:\n",
    "        Lista karata koja ide igraču i lista preostalih karata\n",
    "    \"\"\"\n",
    "    karte_za_igrača = []\n",
    "    for _ in range(5):\n",
    "        karta, špil = izvuci_kartu(špil)\n",
    "        karte_za_igrača.append(karta)\n",
    "    return karte_za_igrača, špil\n",
    "\n",
    "def podjeli_karte_svima(broj_igrača: int, špil) -> list:\n",
    "    \"\"\"\n",
    "    +Funkcija prima broj igrača i\n",
    "    vrati toliko lista karata tim igračima.\n",
    "\n",
    "    Parametars\n",
    "    ----------\n",
    "    broj_igrača: int\n",
    "        Broj igrača u igri\n",
    "\n",
    "    Returns\n",
    "    -------\n",
    "    list\n",
    "        Lista lista karata\n",
    "    \"\"\"\n",
    "    karte_za_sve = []\n",
    "    for _ in range(broj_igrača):\n",
    "        karte_za_jednog, špil = podjeli_karte_igraču(špil)\n",
    "        karte_za_sve.append(karte_za_jednog)\n",
    "    return karte_za_sve, špil\n",
    "\n",
    "špil_karta = kreiraj_špil_karata()\n",
    "sve_karte, špil_karta = podjeli_karte_svima(5, špil_karta)\n",
    "sve_karte"
   ]
  },
  {
   "cell_type": "markdown",
   "metadata": {},
   "source": [
    "Napiši funkciju zbroj_znamenki(broj), koja prima cijeli broj i vraća zbroj njegovih znamenki.\n",
    "\n"
   ]
  },
  {
   "cell_type": "code",
   "execution_count": null,
   "metadata": {},
   "outputs": [
    {
     "name": "stdout",
     "output_type": "stream",
     "text": [
      "24\n"
     ]
    }
   ],
   "source": [
    "def zbroj_znamenki(broj: int) -> int:\n",
    "    \"\"\"   \n",
    "    Funkcija prima cijeli broj i vraća zbroj njegovih znamenki.\n",
    "\n",
    "    Parametars\n",
    "    ----------\n",
    "    broj: int\n",
    "\n",
    "    Returns\n",
    "    --------\n",
    "    int\n",
    "        Zbroj njegovih znamenki.    \n",
    "    \"\"\"\n",
    "    return sum(int(znamenka) for znamenka in str(abs(broj)))\n",
    "\n",
    "print(zbroj_znamenki(5874))"
   ]
  },
  {
   "cell_type": "markdown",
   "metadata": {},
   "source": [
    "Napiši funkciju obrni_string(tekst), koja prima string i vraća ga obrnutim redoslijedom."
   ]
  },
  {
   "cell_type": "code",
   "execution_count": 20,
   "metadata": {},
   "outputs": [
    {
     "name": "stdout",
     "output_type": "stream",
     "text": [
      "oinotnA\n"
     ]
    }
   ],
   "source": [
    "def obrni_string(tekst):\n",
    "    return tekst[::-1]\n",
    "\n",
    "print(obrni_string('Antonio'))\n"
   ]
  },
  {
   "cell_type": "markdown",
   "metadata": {},
   "source": [
    "Primjer objekta."
   ]
  },
  {
   "cell_type": "code",
   "execution_count": 21,
   "metadata": {},
   "outputs": [
    {
     "name": "stdout",
     "output_type": "stream",
     "text": [
      "Audi RS6 2024\n",
      "BMW X6 2020\n"
     ]
    }
   ],
   "source": [
    "class Automobil:\n",
    "    def __init__(self, marka, model, godina):\n",
    "        self.marka = marka\n",
    "        self.model = model\n",
    "        self.godina = godina\n",
    "\n",
    "    def opisi(self):\n",
    "        return f\"{self.marka} {self.model} {self.godina}\"\n",
    "    \n",
    "auto1 = Automobil(\"Audi\", \"RS6\", \"2024\")\n",
    "auto2 = Automobil(\"BMW\", \"X6\", \"2020\")\n",
    "\n",
    "print(auto1.opisi())\n",
    "print(auto2.opisi())    \n"
   ]
  },
  {
   "cell_type": "code",
   "execution_count": null,
   "metadata": {},
   "outputs": [
    {
     "name": "stdout",
     "output_type": "stream",
     "text": [
      "Ana ima prosjek: 4.333333333333333\n",
      "Marko ima prosjek: 3.8333333333333335\n"
     ]
    }
   ],
   "source": [
    "class Student:\n",
    "    def __init__(self, ime, ocjene):\n",
    "        self.ime = ime\n",
    "        self.ocjene = ocjene\n",
    "\n",
    "    def prosjek_ocjena(self):\n",
    "        return sum(self.ocjene) / len(self.ocjene)\n",
    "\n",
    "# Kreiranje objekata\n",
    "student1 = Student(\"Ana\", [5, 4, 5, 3, 4, 5])\n",
    "student2 = Student(\"Marko\", [4, 4, 3, 5, 5, 2])\n",
    "\n",
    "# Ispis prosjeka ocjena\n",
    "print(f\"{student1.ime} ima prosjek: {student1.prosjek_ocjena()}\")  \n",
    "print(f\"{student2.ime} ima prosjek: {student2.prosjek_ocjena()}\")  \n"
   ]
  },
  {
   "cell_type": "markdown",
   "metadata": {},
   "source": [
    "Vjezba: Napiši funkciju zbroj_parnih(n), koja prima broj n i vraća zbroj svih parnih brojeva od 1 do n."
   ]
  },
  {
   "cell_type": "code",
   "execution_count": null,
   "metadata": {},
   "outputs": [],
   "source": [
    "def zbroj_parnih(n: int):\n",
    "    lista_brojeva = []\n",
    "    if not n % 2 == 0:\n",
    "        return \"Niste unjeli paran broj!\"\n",
    "    for n in range(1, n):\n",
    "        n += 1\n",
    "        if n % 2 == 0:\n",
    "            lista_brojeva.append(n)\n",
    "    return sum(lista_brojeva)\n",
    "   \n",
    "        \n",
    "print(zbroj_parnih(18))"
   ]
  },
  {
   "cell_type": "markdown",
   "metadata": {},
   "source": [
    "Vjezba: Napiši funkciju je_palindrom(tekst), koja provjerava je li uneseni string isti kada se pročita unazad."
   ]
  },
  {
   "cell_type": "code",
   "execution_count": 19,
   "metadata": {},
   "outputs": [
    {
     "name": "stdout",
     "output_type": "stream",
     "text": [
      "True\n"
     ]
    }
   ],
   "source": [
    "def je_palindrom(tekst: str) -> bool:\n",
    "    if tekst == tekst [::-1]:\n",
    "        return True\n",
    "    return False\n",
    "print(je_palindrom('radar'))"
   ]
  },
  {
   "cell_type": "markdown",
   "metadata": {},
   "source": [
    "Vjezba: Najveći broj u listi,\n",
    "\n",
    "Napiši funkciju najveci_broj(lista), koja prima listu brojeva i vraća najveći broj iz te liste."
   ]
  },
  {
   "cell_type": "code",
   "execution_count": 6,
   "metadata": {},
   "outputs": [
    {
     "name": "stdout",
     "output_type": "stream",
     "text": [
      "25\n"
     ]
    }
   ],
   "source": [
    "def največi_broj(max_broj: list) -> int:\n",
    "    max_broj = max(max_broj)\n",
    "    return max_broj\n",
    "\n",
    "print(največi_broj([2, 5, 7, 10 , 25]))"
   ]
  },
  {
   "cell_type": "markdown",
   "metadata": {},
   "source": [
    "Vjezba: Brojač samoglasnika\n",
    "\n",
    "Napiši funkciju broj_samoglasnika(tekst), koja vraća broj samoglasnika (a, e, i, o, u) u zadanom stringu."
   ]
  },
  {
   "cell_type": "code",
   "execution_count": 5,
   "metadata": {},
   "outputs": [
    {
     "name": "stdout",
     "output_type": "stream",
     "text": [
      "4\n"
     ]
    }
   ],
   "source": [
    "def broj_samoglasnika(tekst: str) -> str:\n",
    "    samoglasnici = \"aeiouAEIOU\"\n",
    "    brojac = 0\n",
    "    i = 0\n",
    "    while i < len(tekst):\n",
    "        if tekst[i] in samoglasnici:\n",
    "            brojac += 1\n",
    "        i += 1\n",
    "    return brojac\n",
    "    \n",
    "#      def broj_samoglasnika(tekst):\n",
    "#     samoglasnici = \"aeiouAEIOU\"  # Dodali smo velika i mala slova\n",
    "#     return sum(1 for slovo in tekst if slovo in samoglasnici)\n",
    "\n",
    "# # Testiranje funkcije\n",
    "# print(broj_samoglasnika(\"Antonio\"))  # Output: 4\n",
    "# print(broj_samoglasnika(\"PROGRAMIRANJE\"))  # Output: 6\n",
    "# print(broj_samoglasnika(\"Python\"))  # Output: 1\n",
    "    \n",
    "      \n",
    "\n",
    "print(broj_samoglasnika(\"Antonio\"))"
   ]
  },
  {
   "cell_type": "markdown",
   "metadata": {},
   "source": [
    "Vjezba: Napiši funkciju faktorijal(n),\n",
    "\n",
    " koja računa faktorijal broja n koristeći rekurziju."
   ]
  },
  {
   "cell_type": "code",
   "execution_count": 6,
   "metadata": {},
   "outputs": [
    {
     "name": "stdout",
     "output_type": "stream",
     "text": [
      "120\n"
     ]
    }
   ],
   "source": [
    "def faktorijal(n: int) -> int:\n",
    "    rezultat = 1\n",
    "    for i in range(2, n + 1):\n",
    "        rezultat *= i\n",
    "    return rezultat\n",
    "\n",
    "print(faktorijal(5))   "
   ]
  },
  {
   "cell_type": "markdown",
   "metadata": {},
   "source": [
    "Vjezba: Klasa Pravokutnik\n",
    "\n",
    "Napiši klasu Pravokutnik, koja ima širinu i visinu te metodu povrsina(), koja vraća površinu pravokutnika."
   ]
  },
  {
   "cell_type": "code",
   "execution_count": 7,
   "metadata": {},
   "outputs": [
    {
     "name": "stdout",
     "output_type": "stream",
     "text": [
      "50\n",
      "21\n"
     ]
    }
   ],
   "source": [
    "class Pravokutnik:\n",
    "    def __init__(self, širina, visina):\n",
    "        self.širina = širina\n",
    "        self.visina = visina\n",
    "\n",
    "    def površina(self):\n",
    "        return self.širina * self.visina\n",
    "    \n",
    "pravokutnik1 = Pravokutnik(5, 10)\n",
    "pravokutnik2 = Pravokutnik(7, 3)\n",
    "\n",
    "print(pravokutnik1.površina())\n",
    "print(pravokutnik2.površina())\n"
   ]
  },
  {
   "cell_type": "markdown",
   "metadata": {},
   "source": [
    "Vježba: Napravi klasu Racun, koja ima broj računa i stanje. Dodaj metode:\n",
    "\n",
    "uplati(iznos) → povećava stanje\n",
    "\n",
    "isplati(iznos) → smanjuje stanje ako ima dovoljno novca"
   ]
  },
  {
   "cell_type": "code",
   "execution_count": 27,
   "metadata": {},
   "outputs": [
    {
     "name": "stdout",
     "output_type": "stream",
     "text": [
      "Broj računa: HR123456789\n",
      "Stanje računa: 1200 €\n"
     ]
    }
   ],
   "source": [
    "class Račun:\n",
    "    def __init__(self, broj_računa, stanje_računa):\n",
    "        self.broj_računa = broj_računa\n",
    "        self.stanje_računa = stanje_računa\n",
    "\n",
    "    def uplati(self, iznos):\n",
    "        self.stanje_računa += iznos  #Povečava iznos računa  \n",
    "    \n",
    "    def isplati(self, iznos):\n",
    "        if iznos <= self.stanje_računa:  # Provjeri ima li dovoljno novaca\n",
    "            self.stanje_računa -= iznos\n",
    "        else:\n",
    "            print(\"Nema dovoljno sredstava na računu!\")\n",
    "    \n",
    "    def stanje(self):\n",
    "        return self.stanje_računa\n",
    "    \n",
    "    def __str__(self):\n",
    "        # Ovdje formatiramo ispis kako želimo\n",
    "        return f\"Broj računa: {self.broj_računa}\\nStanje računa: {self.stanje_računa} €\"\n",
    "\n",
    "    \n",
    "        \n",
    "moj_računa = Račun('HR123456789', 1000)\n",
    "moj_računa.uplati(500)\n",
    "moj_računa.isplati(300)\n",
    "print(moj_računa)\n"
   ]
  },
  {
   "cell_type": "markdown",
   "metadata": {},
   "source": [
    "Vjezba: Klasa Osoba\n",
    "\n",
    "Napiši klasu Osoba, koja ima ime i godine te metodu predstavi_se(),\n",
    "\n",
    " koja ispisuje \"Bok, ja sam Ime i imam X godina.\""
   ]
  },
  {
   "cell_type": "code",
   "execution_count": 28,
   "metadata": {},
   "outputs": [
    {
     "data": {
      "text/plain": [
       "'Bok, ja sam Antonio i imam 25 godina'"
      ]
     },
     "execution_count": 28,
     "metadata": {},
     "output_type": "execute_result"
    }
   ],
   "source": [
    "class Osoba:\n",
    "    def __init__(self, ime, godine):\n",
    "        self.ime = ime\n",
    "        self.godine = godine\n",
    "\n",
    "    def predstavi_se(self):\n",
    "        return f\"Bok, ja sam {self.ime} i imam {self.godine} godina\"\n",
    "\n",
    "osoba1 = Osoba('Antonio', 25)\n",
    "\n",
    "osoba1.predstavi_se()\n"
   ]
  },
  {
   "cell_type": "markdown",
   "metadata": {},
   "source": [
    "Vjezba: Klasa Automobil s brzinom\n",
    "\n",
    "Napravi klasu Automobil, koja ima marku, model i brzinu. Dodaj metode:\n",
    "\n",
    "ubrzaj(iznos): povećava brzinu\n",
    "\n",
    "uspori(iznos): smanjuje brzinu, ali ne ispod 0"
   ]
  },
  {
   "cell_type": "code",
   "execution_count": null,
   "metadata": {},
   "outputs": [
    {
     "name": "stdout",
     "output_type": "stream",
     "text": [
      "Vozilo marke -> Audi\n",
      "Vozi brzinom -> 60 km/h\n",
      "\n"
     ]
    }
   ],
   "source": [
    "class Automobil:\n",
    "    def __init__(self, marka, model, brzina):\n",
    "        self.marka = marka\n",
    "        self.model = model\n",
    "        self.brzina = brzina\n",
    "    \n",
    "    def ubrzaj(self, ubrzanje):\n",
    "        self.brzina += ubrzanje\n",
    "\n",
    "    def uspori(self, usporavanje):\n",
    "            self.brzina -= usporavanje\n",
    "            if self.brzina <= 0:  # Ako brzina padne na 0 ili ispod, resetiraj je na 0\n",
    "                 self.brzina = 0\n",
    "\n",
    "    def presporo(self):\n",
    "        # Provjera je li auto prespor prije ispisa brzine\n",
    "        if self.brzina == 0:\n",
    "            return \"Vozite presporo!\"\n",
    "        return \"\"\n",
    "         \n",
    "    \n",
    "    def __str__(self):\n",
    "        poruka = self.presporo()\n",
    "        return f\"Vozilo marke -> {self.marka}\\nVozi brzinom -> {self.brzina} km/h\\n{poruka}\"\n",
    "        \n",
    "vozilo = Automobil('Audi', 'RS6', 50)\n",
    "vozilo.ubrzaj(20)\n",
    "vozilo.uspori(10)\n",
    "print(vozilo)\n"
   ]
  },
  {
   "cell_type": "markdown",
   "metadata": {},
   "source": [
    "Vjezba: Klasa Student s prosjekom ocjena\n",
    "\n",
    "Napiši klasu Student,\n",
    "\n",
    " koja ima ime i listu ocjena te metodu prosjek_ocjena(),\n",
    " \n",
    "  koja računa prosjek."
   ]
  },
  {
   "cell_type": "code",
   "execution_count": 112,
   "metadata": {},
   "outputs": [
    {
     "name": "stdout",
     "output_type": "stream",
     "text": [
      "Učenik: Antonio\n",
      "Prosjek ocjena: 3.6\n"
     ]
    }
   ],
   "source": [
    "class Student:\n",
    "    def __init__(self, ime, lista_ocjena: list) -> float: \n",
    "       self.ime = ime\n",
    "       self.lista_ocjena = lista_ocjena\n",
    "\n",
    "    def prosjek_ocjena(self, zbroj):\n",
    "        zbroj = sum(self.lista_ocjena) / len(self.lista_ocjena)\n",
    "        return zbroj\n",
    "    \n",
    "    def __str__(self):\n",
    "        return f\"Učenik: {self.ime}\\nProsjek ocjena: {zbroj}\"\n",
    "     \n",
    "\n",
    "student1 = Student(\"Antonio\", [5, 3, 4, 4, 2])\n",
    "print(student1)"
   ]
  },
  {
   "cell_type": "code",
   "execution_count": 105,
   "metadata": {},
   "outputs": [
    {
     "name": "stdout",
     "output_type": "stream",
     "text": [
      "3.6\n"
     ]
    }
   ],
   "source": [
    "lista = [5, 3, 4, 4, 2]\n",
    "zbroj = sum(lista) / len(lista)\n",
    "print(zbroj)"
   ]
  },
  {
   "cell_type": "markdown",
   "metadata": {},
   "source": [
    "# Projekt 1: Igra odgovaranja na pitanja"
   ]
  },
  {
   "cell_type": "code",
   "execution_count": 4,
   "metadata": {},
   "outputs": [
    {
     "name": "stdout",
     "output_type": "stream",
     "text": [
      "1. Koji je odgovor za 3 ** 8 u Python-u?\n",
      "Netočan odgovor. Točan odgovor je: 8.\n",
      "\n",
      "2. Koji je rezultat za 10 // 3 u Python-u?\n",
      "Točan odgovor!\n",
      "\n",
      "3. Sa kojom funkcijom postavljamo pitanje korisniku,a korisnik unosi odgovor na isto?\n",
      "Netočan odgovor. Točan odgovor je: input.\n",
      "\n",
      "4. Sa čime dajemo do znanja monitoru da nešto ispiše?\n",
      "Točan odgovor!\n",
      "\n",
      "5. Koji simbol je potrebno staviti da bi napravili komentar u Pythonu-u?\n",
      "Netočan odgovor. Točan odgovor je: #.\n",
      "\n",
      "Igra gotova! Tvoj prosjek točnih odgovora je: 2/5. \n"
     ]
    }
   ],
   "source": [
    "# lista pitanja\n",
    "# spremi odgovore\n",
    "# odaberi \"random\" pitanja\n",
    "# pitaj pitanje\n",
    "# pregledaj jel točno\n",
    "# prati rezultat (score)\n",
    "# reci korisniku njegov rezultat (score)\n",
    "\n",
    "import random\n",
    "\n",
    "pitanja = {\n",
    "    \"Koja je ključna riječ za definiciju u Python-u?\": \"def\",\n",
    "    \"Sta moramo staviti ako želimo odgovor u formatu True or False?\": \"bool\",\n",
    "    \"Koji simbol je potrebno staviti da bi napravili komentar u Pythonu-u?\": \"#\",\n",
    "    \"Sa kojom funkcijom postavljamo pitanje korisniku,a korisnik unosi odgovor na isto?\": \"input\",\n",
    "    \"Koji je odgovor za 3 ** 8 u Python-u?\": \"8\",\n",
    "    \"Koji je rezultat za 10 // 3 u Python-u?\": \"3\",\n",
    "    \"Sa čime dajemo do znanja monitoru da nešto ispiše?\": \"print\" \n",
    "}\n",
    "\n",
    "def python_igra_pogađanja():\n",
    "    pitanja_lista = list(pitanja.keys())\n",
    "    sva_pitanja = 5\n",
    "    rezultat = 0\n",
    "\n",
    "    odabrana_pitanja = random.sample(pitanja_lista, sva_pitanja)\n",
    "\n",
    "    # [\"a\", \"b\", \"c\"]\n",
    "    #   0    1    2\n",
    "    for index, pitanje in enumerate(odabrana_pitanja):\n",
    "        print(f\"{index + 1}. {pitanje}\")\n",
    "        odgovor_korisnika = input(\"Tvoj odgovor: \").lower().strip() #.lower() -> sve u mala slova, #.strip() -> miče razmake\n",
    "\n",
    "        točan_odgovor = pitanja[pitanje]\n",
    "        if odgovor_korisnika == točan_odgovor.lower():\n",
    "            print(\"Točan odgovor!\\n\")\n",
    "            rezultat += 1\n",
    "        else:\n",
    "            print(f\"Netočan odgovor. Točan odgovor je: {točan_odgovor}.\\n\")\n",
    "\n",
    "    print(f\"Igra gotova! Tvoj prosjek točnih odgovora je: {rezultat}/{sva_pitanja}. \")\n",
    "    \n",
    "python_igra_pogađanja()"
   ]
  },
  {
   "cell_type": "markdown",
   "metadata": {},
   "source": [
    "# Project 2: Program koji ti vrati random lozinku"
   ]
  },
  {
   "cell_type": "code",
   "execution_count": 3,
   "metadata": {},
   "outputs": [
    {
     "name": "stdout",
     "output_type": "stream",
     "text": [
      "WS2uoMaTie\n"
     ]
    }
   ],
   "source": [
    "# prikupiti korisničke postavke\n",
    "# - dužina\n",
    "# - mora imati veliko slovo\n",
    "# - mora imati poseban znak\n",
    "# - mora imati broj \n",
    "\n",
    "import random\n",
    "import string\n",
    "\n",
    "def generiraj_password():\n",
    "    dužina = int(input(\"Unesite željenu dužinu lozinke: \").strip())\n",
    "    uključeno_veliko_slovo = input(\"Veliko slovo uključeno? (da/ne): \").strip().lower()\n",
    "    uključen_poseban_znak = input(\"Uključen poseban znak? (da/ne): \").strip().lower()\n",
    "    uključen_broj = input(\"Uključen broj? (da/ne): \").strip().lower()\n",
    "\n",
    "    if dužina < 4:\n",
    "        print(\"Lozinka mora imati barem 4 znamenke.\")\n",
    "        return\n",
    "    \n",
    "    lower = string.ascii_lowercase\n",
    "    uppercase = string.ascii_uppercase if uključeno_veliko_slovo == \"da\" else \"\"\n",
    "    special = string.punctuation if uključen_poseban_znak == \"da\" else \"\"\n",
    "    digits = string.digits if uključen_broj == \"da\" else \"\"\n",
    "    all_characters = lower + uppercase + special + digits\n",
    "\n",
    "    potrebni_karakteri = []\n",
    "    if uključeno_veliko_slovo == \"da\":\n",
    "        potrebni_karakteri.append(random.choice(uppercase))\n",
    "    if uključen_poseban_znak == \"da\":\n",
    "        potrebni_karakteri.append(random.choice(special))\n",
    "    if uključen_broj == \"da\":\n",
    "        potrebni_karakteri.append(random.choice(digits))\n",
    "\n",
    "    preostala_dužina = dužina - len(potrebni_karakteri)\n",
    "    lozinka = potrebni_karakteri\n",
    "\n",
    "    for _ in range(preostala_dužina):\n",
    "        osoba = random.choice(all_characters)\n",
    "        lozinka.append(osoba)\n",
    "\n",
    "    random.shuffle(lozinka)\n",
    "\n",
    "    str_lozinka = \"\".join(lozinka)\n",
    "    return str_lozinka\n",
    "\n",
    "lozinka = generiraj_password()\n",
    "print(lozinka)"
   ]
  },
  {
   "cell_type": "markdown",
   "metadata": {},
   "source": [
    "# Project 3: To-Do list"
   ]
  },
  {
   "cell_type": "code",
   "execution_count": null,
   "metadata": {},
   "outputs": [],
   "source": [
    "# Loading existing items\n",
    "# 1. create a new item\n",
    "# 2. list items\n",
    "# 3. mark item as complete\n",
    "# 4. save items\n",
    "import json\n",
    "\n",
    "{\"tasks\": [\n",
    "    {\"tasks\": \"tasks is this\", \"complete\": True}\n",
    "]}\n",
    "\n",
    "file_name = \"todo_list.json\"\n",
    "\n",
    "def load_tasks():\n",
    "    try:\n",
    "        with open(file_name, \"r\") as file:\n",
    "            return json.load(file)\n",
    "    except:\n",
    "        return {\"tasks\": []}\n",
    "\n",
    "\n",
    "def ssave_tasks(tasks):\n",
    "    try:\n",
    "        with open(file_name, \"w\") as file:\n",
    "            json.dump(tasks,file)\n",
    "    except:\n",
    "        print(\"Filed to save.\")\n",
    "    \n",
    "\n",
    "def view_tasks(tasks):\n",
    "    print()\n",
    "    task_list = tasks[\"tasks\"]\n",
    "    if len(task_list) == 0:\n",
    "        print(\"No tasks to display.\")\n",
    "    else:\n",
    "        print(\"Your To-Do List: \")\n",
    "        for index, task in enumerate(task_list):\n",
    "            status = \"[Completed]\" if task[\"complete\"] else \"[Pending]\"\n",
    "            print(f\"{index + 1}. {task['discription']}    {status}\")\n",
    "\n",
    "\n",
    "def create_tasks(tasks):\n",
    "    discription = input(\"Enter the task discription: \").strip()\n",
    "    if discription:\n",
    "        tasks[\"tasks\"].append({\"discription\": discription, \"complete\": False})\n",
    "        ssave_tasks(tasks)\n",
    "        print(\"Task added.\")\n",
    "    else:\n",
    "        print(\"Description cannot be empty.\")\n",
    "\n",
    "\n",
    "def mark_task_complete(tasks):\n",
    "    view_tasks(tasks)\n",
    "    try:\n",
    "        task_number = int(input(\"Enter the task number to mark as complete: \").strip())\n",
    "        if 1 <= task_number <= len(tasks):\n",
    "            tasks[\"tasks\"][task_number - 1][\"complete\"] = True\n",
    "            ssave_tasks(tasks)\n",
    "            print(\"Task marked as complete.\")\n",
    "        else:\n",
    "            print(\"Invalid task number.\")\n",
    "    except:\n",
    "        print(\"Enter a valid number.\")\n",
    "\n",
    "\n",
    "def main():\n",
    "    tasks = load_tasks()\n",
    "\n",
    "    while True:\n",
    "        print(\"\\nTo-Do List Manager\")\n",
    "        print(\"1. View Tasks\")\n",
    "        print(\"2. Add Task\")\n",
    "        print(\"3. Complete Task\")\n",
    "        print(\"4. Exit\")\n",
    "\n",
    "        choice = input(\"Enter your choice: \").strip()\n",
    "\n",
    "        if choice == \"1\":\n",
    "            view_tasks(tasks)\n",
    "        elif choice == \"2\":\n",
    "            create_tasks(tasks)\n",
    "        elif choice == \"3\":\n",
    "            mark_task_complete(tasks)\n",
    "        elif choice == \"4\":\n",
    "            print(\"Goodbye\")\n",
    "        else:\n",
    "            print(\"Invalid choice. Please try again.\")\n",
    "\n",
    "main()\n"
   ]
  },
  {
   "cell_type": "markdown",
   "metadata": {},
   "source": [
    "Vjezba: Napravi klasu Automobil koja ima atribut boja i metodu vozi() koja ispisuje \"Auto u pokretu\".\n",
    "Napravi objekat te klase i pozovi metodu."
   ]
  },
  {
   "cell_type": "code",
   "execution_count": null,
   "metadata": {},
   "outputs": [
    {
     "data": {
      "text/plain": [
       "Crveni audi modela RS3 ima maksimalnu brzinu od 300 km/h."
      ]
     },
     "execution_count": 41,
     "metadata": {},
     "output_type": "execute_result"
    }
   ],
   "source": [
    "\n",
    "\n",
    "class Auto:\n",
    "    def __init__(self, boja, marka, model):\n",
    "        self.boja = boja\n",
    "        self.marka = marka\n",
    "        self.model = model\n",
    "\n",
    "    def info(self):\n",
    "        return f\"{self.boja} {self.marka} model {self.model}\"\n",
    "    def vozi(self):\n",
    "        return f\"{self.boja} auto u pokretu.\"\n",
    "    \n",
    "vozilo = Auto(\"Crveni\", \"audi\", \"RS3.\")\n",
    "vozilo.info()\n",
    "\n",
    "class SportskiAutomobil(Auto):\n",
    "    def __init__(\n",
    "        self,\n",
    "        boja: str, \n",
    "        marka: str,\n",
    "        model:str, \n",
    "        maksimalna_brzina: int\n",
    "    ): \n",
    "        super().__init__(boja, marka, model)\n",
    "        self.maksimalna_brzina = maksimalna_brzina\n",
    "\n",
    "    def turbo(self):\n",
    "        return \"Turbo mode aktivan!\"\n",
    "    \n",
    "sportski_auto = SportskiAutomobil(\"Crvena\", \"audi\", \"RS3\", 300)\n",
    "\n",
    "class Proba(SportskiAutomobil):\n",
    "    def __init__(self, boja, marka, model, maksimalna_brzina):\n",
    "        super().__init__(boja, marka, model, maksimalna_brzina)\n",
    "\n",
    "    def __repr__(self):\n",
    "        return f\"{self.boja} {self.marka} modela {self.model} ima maksimalnu brzinu od {self.maksimalna_brzina} km/h.\"\n",
    "proba = Proba(\"Crveni\", \"audi\", \"RS3\", 300)\n",
    "proba\n"
   ]
  },
  {
   "cell_type": "markdown",
   "metadata": {},
   "source": [
    "Vjezba: Baza podataka u firmi."
   ]
  },
  {
   "cell_type": "code",
   "execution_count": 18,
   "metadata": {},
   "outputs": [
    {
     "name": "stdout",
     "output_type": "stream",
     "text": [
      "Dobro došao Antonio Šiljac na poziciju CNC operater!\n",
      "Antonio Šiljac (12300668695) - CNC operater\n"
     ]
    }
   ],
   "source": [
    "class Zaposlenik:\n",
    "    def __init__(self, ime, prezime, oib, staz, skola, pozicija, alat, odjeca):\n",
    "        self.ime = ime\n",
    "        self.prezime = prezime\n",
    "        self.oib = str(oib)\n",
    "        self.staz = staz\n",
    "        self.skola = skola\n",
    "        self.pozicija = pozicija\n",
    "        self.alat = alat\n",
    "        self.odjeca = odjeca\n",
    "\n",
    "    def __repr__(self):\n",
    "        return f\"{self.ime} {self.prezime} ({self.oib}) - {self.pozicija}\"\n",
    "\n",
    "class Tvrtka:\n",
    "    def __init__(self):\n",
    "        self.zaposlenici = []\n",
    "\n",
    "    def ubaci(self, zaposlenik):\n",
    "        self.zaposlenici.append(zaposlenik)\n",
    "        print(f\"Dobro došao {zaposlenik.ime} {zaposlenik.prezime} na poziciju {zaposlenik.pozicija}!\")\n",
    "\n",
    "    def prikazi(self):\n",
    "        for z in self.zaposlenici:\n",
    "            print(z)\n",
    "\n",
    "# Primjer korištenja:\n",
    "firma = Tvrtka()\n",
    "z1 = Zaposlenik(\"Antonio\", \"Šiljac\", 12300668695, 4, \"Srednja\", \"CNC operater\", \"CNC stroj\", \"Radno odijelo\")\n",
    "firma.ubaci(z1)\n",
    "firma.prikazi()\n",
    "\n"
   ]
  },
  {
   "cell_type": "markdown",
   "metadata": {},
   "source": [
    "Napiši program koji će učitati ocjene odvojene razmakom. Program tada treba ispisati prosjek. Nakon toga se unese željeni prosjek. Program treba odrediti koju ocjenu je potrebno dobiti da se ostvari željeni prosjek (tj. najbliže iznad tog prosjeka).\n",
    "Riješi tako da je rezultat ocjena koja ispada iz raspona 1-5\n",
    "Riješi tako da je rezultat niz ocjena u rasponu 1-5"
   ]
  },
  {
   "cell_type": "code",
   "execution_count": null,
   "metadata": {},
   "outputs": [
    {
     "name": "stdout",
     "output_type": "stream",
     "text": [
      "Unesene ocjene su: [5, 4, 1, 2, 3]\n",
      "Prosjek ocjena je: 3.00\n",
      "Željeni prosjek na kraju godine je: 3.0\n",
      "Potrebne ocjene za postizanje željenog prosjeka su: Već imate željeni prosjek ili ga nije moguće postići ocjenama 1-5.\n",
      "Novi prosjek je: 3.0\n"
     ]
    }
   ],
   "source": [
    "ocijene_string = input(\"Unesite ocijene odvojene razmakom: \")\n",
    "ocijene_lista = [int(o) for o in ocijene_string.split()]\n",
    "print(f\"Unesene ocjene su: {ocijene_lista}\")\n",
    "\n",
    "if all(1 <= o <= 5 for o in ocijene_lista):\n",
    "    prosjek = sum(ocijene_lista) / len(ocijene_lista)\n",
    "    print(f\"Prosjek ocjena je: {prosjek:.1f}\")\n",
    "\n",
    "zaključni_prosjek = float(input(\"Unesite prosjek koji želite na kraju godine:\"))\n",
    "print(f\"Željeni prosjek na kraju godine je: {zaključni_prosjek}\")\n",
    "\n",
    "potrebne_ocjene = []\n",
    "trenutne_ocjene = ocijene_lista.copy()\n",
    "\n",
    "while sum(trenutne_ocjene) / len(trenutne_ocjene) < zaključni_prosjek:\n",
    "    for ocjena in range(1, 6):\n",
    "        if (sum(trenutne_ocjene) + ocjena) / (len(trenutne_ocjene) + 1) >= zaključni_prosjek:\n",
    "            potrebne_ocjene.append(ocjena)\n",
    "            trenutne_ocjene.append(ocjena)\n",
    "            break\n",
    "    else:\n",
    "        potrebne_ocjene.append(5)\n",
    "        trenutne_ocjene.append(5)\n",
    "\n",
    "novi_prosjek = sum(trenutne_ocjene) / len(trenutne_ocjene)\n",
    "print(\"Potrebne ocjene za postizanje željenog prosjeka su:\", \" \".join(map(str, potrebne_ocjene)) if potrebne_ocjene == trenutne_ocjene else \"Već imate željeni prosjek ili ga nije moguće postići ocjenama 1-5.\")\n",
    "print(f\"Novi prosjek je: {novi_prosjek:.1f}\")\n"
   ]
  },
  {
   "cell_type": "code",
   "execution_count": 21,
   "metadata": {},
   "outputs": [
    {
     "name": "stdout",
     "output_type": "stream",
     "text": [
      "Zbir brojeva je: 15\n"
     ]
    }
   ],
   "source": [
    "def zbir_brojeva(lista):\n",
    "    suma = 0\n",
    "    for broj in lista:\n",
    "        suma += broj\n",
    "    return suma\n",
    "\n",
    "brojevi = [1, 2, 3, 4, 5]\n",
    "rezultat = zbir_brojeva(brojevi)\n",
    "print(\"Zbir brojeva je:\", rezultat)\n"
   ]
  },
  {
   "cell_type": "code",
   "execution_count": 22,
   "metadata": {},
   "outputs": [
    {
     "name": "stdout",
     "output_type": "stream",
     "text": [
      "Zdravo Ana\n"
     ]
    }
   ],
   "source": [
    "def pozdrav(ime):\n",
    "    print(\"Zdravo\", ime)\n",
    "\n",
    "pozdrav(\"Ana\")\n"
   ]
  },
  {
   "cell_type": "code",
   "execution_count": 26,
   "metadata": {},
   "outputs": [
    {
     "name": "stdout",
     "output_type": "stream",
     "text": [
      "Ukupan zbir je: 60\n"
     ]
    }
   ],
   "source": [
    "brojevi = [10, 20, 30]\n",
    "tekst = \"Ukupan zbir je: \" + str(sum(brojevi))\n",
    "print(tekst)\n",
    "\n"
   ]
  },
  {
   "cell_type": "code",
   "execution_count": 34,
   "metadata": {},
   "outputs": [
    {
     "name": "stdout",
     "output_type": "stream",
     "text": [
      "120\n"
     ]
    }
   ],
   "source": [
    "def faktorijel(n):\n",
    "    rezultat = 1\n",
    "    for i in range(1, n + 1):\n",
    "        rezultat *= i\n",
    "    return rezultat\n",
    "\n",
    "print(faktorijel(5))\n"
   ]
  },
  {
   "cell_type": "code",
   "execution_count": 45,
   "metadata": {},
   "outputs": [
    {
     "name": "stdout",
     "output_type": "stream",
     "text": [
      "Petar\n",
      "Petar\n",
      "['Marko', 'Ivana']\n",
      "['Marko', 'Ivana']\n",
      "['Ivana', 'Petar']\n",
      "['Marko', 'Ivana', 'Petar']\n",
      "Marko\n",
      "['Petar', 'Ivana', 'Marko']\n",
      "['Marko', 'Petar']\n",
      "['Ivana']\n",
      "['Marko', 'Ivana', 'Petar', 'Ana']\n"
     ]
    }
   ],
   "source": [
    "imena = [\"Marko\", \"Ivana\", \"Petar\"]\n",
    "print(imena[2])\n",
    "print(imena[-1])\n",
    "print(imena[0:2])\n",
    "print(imena[:2])\n",
    "print(imena[1:])\n",
    "print(imena[:])\n",
    "print(imena[0])\n",
    "print(imena[::-1])\n",
    "print(imena[::2])\n",
    "print(imena[1::2])\n",
    "imena.append(\"Ana\")\n",
    "print(imena)"
   ]
  },
  {
   "cell_type": "code",
   "execution_count": 53,
   "metadata": {},
   "outputs": [
    {
     "name": "stdout",
     "output_type": "stream",
     "text": [
      "[1, 3, 5]\n"
     ]
    }
   ],
   "source": [
    "brojevi = [1, 2, 3, 4, 5]\n",
    "brojevi = [x for x in brojevi if x % 2 != 0]\n",
    "print(brojevi)\n"
   ]
  }
 ],
 "metadata": {
  "kernelspec": {
   "display_name": "Python 3",
   "language": "python",
   "name": "python3"
  },
  "language_info": {
   "codemirror_mode": {
    "name": "ipython",
    "version": 3
   },
   "file_extension": ".py",
   "mimetype": "text/x-python",
   "name": "python",
   "nbconvert_exporter": "python",
   "pygments_lexer": "ipython3",
   "version": "3.13.7"
  }
 },
 "nbformat": 4,
 "nbformat_minor": 2
}
