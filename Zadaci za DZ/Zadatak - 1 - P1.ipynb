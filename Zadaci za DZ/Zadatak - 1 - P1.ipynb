{
 "cells": [
  {
   "cell_type": "code",
   "execution_count": null,
   "metadata": {},
   "outputs": [],
   "source": [
    "broj = int(input(\"Unesite broj učenika: \"))\n",
    "veličina = int(input (\"Unesite veličinu busa: \"))\n",
    "\n",
    "bus = (broj + veličina - 1) // veličina\n",
    "\n",
    "print (\"Potrebno je unajmiti\", bus, \"busa!\")\n"
   ]
  }
 ],
 "metadata": {
  "kernelspec": {
   "display_name": "Python 3",
   "language": "python",
   "name": "python3"
  },
  "language_info": {
   "name": "python",
   "version": "3.13.2"
  }
 },
 "nbformat": 4,
 "nbformat_minor": 2
}
