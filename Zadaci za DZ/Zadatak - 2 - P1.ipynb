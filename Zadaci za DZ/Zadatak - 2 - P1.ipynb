{
 "cells": [
  {
   "cell_type": "code",
   "execution_count": null,
   "metadata": {},
   "outputs": [],
   "source": [
    "import math\n",
    "a = float(input(\"Unesite katetu a: \"))\n",
    "b = float(input(\"Unesite katetu b: \"))\n",
    "\n",
    "hipotenuza = math.sqrt(a**2 + b**2)\n",
    "\n",
    "print(\"Kateta iznosi\", hipotenuza )\n"
   ]
  }
 ],
 "metadata": {
  "kernelspec": {
   "display_name": "Python 3",
   "language": "python",
   "name": "python3"
  },
  "language_info": {
   "name": "python",
   "version": "3.13.2"
  }
 },
 "nbformat": 4,
 "nbformat_minor": 2
}
