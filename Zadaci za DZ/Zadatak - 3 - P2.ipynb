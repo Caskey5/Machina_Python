{
 "cells": [
  {
   "cell_type": "code",
   "execution_count": null,
   "metadata": {},
   "outputs": [],
   "source": [
    "# 8 - 11:30 ili 14:30 do 18:00\n",
    "\n",
    "vrijeme = input(\"Unesi vrijeme u obliku HH:MM\")\n",
    "sati, minute = vrijeme.split(':')\n",
    "\n",
    "sati = int(sati)\n",
    "minute = int(minute)\n",
    "\n",
    "if (8 <= sati < 11) or (sati == 11 and minute <= 30) or (sati == 14 and minute > 30) or (15 <= sati < 18):\n",
    "    print('Radi!')\n",
    "else:\n",
    "    print('Ne radi!')"
   ]
  }
 ],
 "metadata": {
  "language_info": {
   "name": "python"
  }
 },
 "nbformat": 4,
 "nbformat_minor": 2
}
