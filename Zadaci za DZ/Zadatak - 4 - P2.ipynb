{
 "cells": [
  {
   "cell_type": "code",
   "execution_count": null,
   "metadata": {},
   "outputs": [],
   "source": [
    "#DZ - Zadatak 2: Napiši program koji će učitati datum rođenja u bilo kojem obliku koji vam padne na pamet (jedan string)\n",
    "#i onda vratiti koji je dan bio na taj datum.\n",
    "\n",
    "\n",
    "\n",
    "import datetime as dt \n",
    "\n",
    "datum_unos = input(\"Unesite dan, mjesec i godinu rođenja u formatu DD-MM-YYYY: \")\n",
    "\n",
    "\n",
    "datum_rođenja = dt.datetime.strptime(datum_unos, \"%d-%m-%Y\")\n",
    "\n",
    "\n",
    "dan_string = datum_rođenja.strftime('%A')\n",
    "\n",
    "print(\"Rođeni ste na \" , dan_string , \"!\")\n"
   ]
  }
 ],
 "metadata": {
  "language_info": {
   "name": "python"
  }
 },
 "nbformat": 4,
 "nbformat_minor": 2
}
