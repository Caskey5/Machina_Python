{
 "cells": [
  {
   "cell_type": "markdown",
   "metadata": {},
   "source": [
    "Parkiralište u Ericssonu je otvoreno između 8:45 i 10h. Napiši program koji će za unešeno vrijeme u formatu HH:MM vratiti je li parkiralište otvoreno.\n",
    "\n",
    "pretpostavimo da parking radi samo radnimm danima od pon do petka od 8:45 do 10h\n",
    "prvo provjeri koji je dan u tjednu, ako zadovljava uvjet korisnik unosi vrijeme "
   ]
  },
  {
   "cell_type": "code",
   "execution_count": 1,
   "metadata": {},
   "outputs": [
    {
     "name": "stdout",
     "output_type": "stream",
     "text": [
      "Danas nije radni dan. Parkiralište je zatvoreno.\n"
     ]
    }
   ],
   "source": [
    "import datetime\n",
    "\n",
    "\n",
    "danas = datetime.datetime.today().weekday() \n",
    "if danas < 5: \n",
    "    vrijeme = input(\"Unesite vrijeme u formatu HH:MM: \")\n",
    "\n",
    "\n",
    "    if len(vrijeme) == 5 and vrijeme[2] == \":\" and vrijeme[:2].isdigit() and vrijeme[3:].isdigit():\n",
    "        sati, minuti = map(int, vrijeme.split(\":\"))\n",
    "\n",
    "        if (sati == 8 and minuti >= 45) or (sati > 8 and sati < 10) or (sati == 10 and minuti == 0):\n",
    "            print(\"Parkiralište je otvoreno.\")\n",
    "        else:\n",
    "            print(\"Parkiralište je zatvoreno.\")\n",
    "    else:\n",
    "        print(\"Neispravan format vremena!\")\n",
    "else:\n",
    "    print(\"Danas nije radni dan. Parkiralište je zatvoreno.\")\n"
   ]
  }
 ],
 "metadata": {
  "kernelspec": {
   "display_name": "Python 3",
   "language": "python",
   "name": "python3"
  },
  "language_info": {
   "codemirror_mode": {
    "name": "ipython",
    "version": 3
   },
   "file_extension": ".py",
   "mimetype": "text/x-python",
   "name": "python",
   "nbconvert_exporter": "python",
   "pygments_lexer": "ipython3",
   "version": "3.13.2"
  }
 },
 "nbformat": 4,
 "nbformat_minor": 2
}
