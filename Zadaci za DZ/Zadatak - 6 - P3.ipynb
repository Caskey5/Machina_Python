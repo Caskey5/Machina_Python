{
 "cells": [
  {
   "cell_type": "markdown",
   "metadata": {},
   "source": [
    "Napiši program koji će simulirati borbu između dva lika u igri. Program treba:\n",
    "\n",
    "- na početku učitati od korisnika:\n",
    "    - naziv prvog lika\n",
    "    - naziv drugog lika\n",
    "    - health/zdravlje/HP/.... prvog lika\n",
    "    - health/zdravlje/HP/.... drugog lika\n",
    "    - raaspon štete koju prvi lik radi (u obliku \"1-3\")\n",
    "    - raaspon štete koju drugi lik radi\n",
    "- ponavljati sve dok su oba lika zdrava (iznad 0 healtha):\n",
    "    - za svakog lika izvući broj u danom rasponu\n",
    "    - primjeniti štetu na drugog lika\n",
    "- na kraju izvjestiti koji lik je preživio"
   ]
  },
  {
   "cell_type": "code",
   "execution_count": null,
   "metadata": {},
   "outputs": [
    {
     "name": "stdout",
     "output_type": "stream",
     "text": [
      "Luka napada Nikola i nanosi 2 štete!\n",
      "Nikola napada Luka i nanosi 4 štete!\n",
      "Luka napada Nikola i nanosi 4 štete!\n",
      "Nikola napada Luka i nanosi 5 štete!\n",
      "Luka napada Nikola i nanosi 4 štete!\n",
      "Nikola je preminuo!\n",
      "Luka je preživio!\n"
     ]
    }
   ],
   "source": [
    "\n",
    "import random\n",
    "\n",
    "naziv1 = input(\"Unesite naziv 1. lika: \")\n",
    "naziv2 = input(\"Unesite naziv 2. lika: \")\n",
    "\n",
    "zdravlje1 = int(input(f\"Unesite zdravlje za {naziv1} : \"))\n",
    "zdravlje2 = int(input(f\"Unesite zdravlje za {naziv2} : \"))\n",
    "\n",
    "šteta1 = input(f\"Unesite štetu za {naziv1}: (Npr. 1-3)\")\n",
    "šteta2 = input(f\"Unesite štetu za {naziv2}: (Npr. 1-3)\")\n",
    "\n",
    "min_šteta1,max_šteta1 = map(int,šteta1.split('-'))\n",
    "min_šteta2,max_šteta2 = map(int,šteta2.split('-'))\n",
    "\n",
    "\n",
    "while zdravlje1 > 0 and zdravlje2 > 0:\n",
    "    šteta1 = random.randint(min_šteta1, max_šteta1)\n",
    "    zdravlje2 -= šteta1\n",
    "    print(f\"{naziv1} napada {naziv2} i nanosi {šteta1} štete!\")\n",
    "\n",
    "    if zdravlje2 <= 0:\n",
    "        print(f\"{naziv2} je preminuo!\")\n",
    "        break\n",
    "\n",
    "    šteta2 = random.randint(min_šteta2,max_šteta2)\n",
    "    zdravlje1 -= šteta2\n",
    "    print(f\"{naziv2} napada {naziv1} i nanosi {šteta2} štete!\")\n",
    "\n",
    "    if zdravlje1 <= 0:\n",
    "        print(f\"{naziv1} je preminuo!\")\n",
    "        break\n",
    "\n",
    "if zdravlje1 > 0:\n",
    "    print(f\"{naziv1} je preživio!\")\n",
    "          \n",
    "else:\n",
    "    print(f\"{naziv2} je preživio!\")\n",
    "\n",
    "\n",
    "\n"
   ]
  }
 ],
 "metadata": {
  "kernelspec": {
   "display_name": "Python 3",
   "language": "python",
   "name": "python3"
  },
  "language_info": {
   "codemirror_mode": {
    "name": "ipython",
    "version": 3
   },
   "file_extension": ".py",
   "mimetype": "text/x-python",
   "name": "python",
   "nbconvert_exporter": "python",
   "pygments_lexer": "ipython3",
   "version": "3.13.2"
  }
 },
 "nbformat": 4,
 "nbformat_minor": 2
}
