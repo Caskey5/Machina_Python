{
 "cells": [
  {
   "cell_type": "markdown",
   "metadata": {},
   "source": [
    "Napiši program koji će učitati ocjene odvojene razmakom. Program tada treba ispisati prosjek. Nakon toga se unese željeni prosjek. Program treba odrediti koju ocjenu je potrebno dobiti da se ostvari željeni prosjek (tj. najbliže iznad tog prosjeka).\n",
    "Riješi tako da je rezultat ocjena koja ispada iz raspona 1-5\n",
    "Riješi tako da je rezultat niz ocjena u rasponu 1-5\n"
   ]
  },
  {
   "cell_type": "code",
   "execution_count": 5,
   "metadata": {},
   "outputs": [
    {
     "name": "stdout",
     "output_type": "stream",
     "text": [
      "Trenutni prosjek ocijena je: 3.6\n",
      "Potrebne ocjene za dostizanje željenog prosjeka: 5 5 \n",
      "Novi prosjek: 4.0\n"
     ]
    }
   ],
   "source": [
    "ocijene_string = input(\"Unesite ocijene odvojene razmakom: \")\n",
    "\n",
    "broj_ocjena = 0\n",
    "zbroj_ocjena = 0\n",
    "trenutna_ocjena = ''\n",
    "\n",
    "for znak in ocijene_string + \" \":\n",
    "    if znak != \" \":\n",
    "        trenutna_ocjena += znak\n",
    "    else:\n",
    "        zbroj_ocjena += int(trenutna_ocjena)\n",
    "        broj_ocjena += 1\n",
    "        trenutna_ocjena = \"\"\n",
    "\n",
    "trenutna_ocjena = zbroj_ocjena / broj_ocjena\n",
    "print(f\"Trenutni prosjek ocijena je: {trenutna_ocjena}\")\n",
    "\n",
    "zaključni_prosjek = float(input(\"Unesite prosjek koji želite na kraju godine:\"))\n",
    "\n",
    "potrebne_ocjene = []\n",
    "\n",
    "while True:\n",
    "    trenutni_novi_prosjek = (zbroj_ocjena + sum(potrebne_ocjene)) / (broj_ocjena + len(potrebne_ocjene))\n",
    "    \n",
    "    if trenutni_novi_prosjek >= zaključni_prosjek:\n",
    "        break\n",
    "\n",
    "    if (zbroj_ocjena + sum(potrebne_ocjene) + 2) / (broj_ocjena + len(potrebne_ocjene) + 1) >= zaključni_prosjek:\n",
    "        potrebne_ocjene.append(2)\n",
    "    elif (zbroj_ocjena + sum(potrebne_ocjene) + 3) / (broj_ocjena + len(potrebne_ocjene) + 1) >= zaključni_prosjek:\n",
    "        potrebne_ocjene.append(3)\n",
    "    elif (zbroj_ocjena + sum(potrebne_ocjene) + 4) / (broj_ocjena + len(potrebne_ocjene) + 1) >= zaključni_prosjek:\n",
    "        potrebne_ocjene.append(4)\n",
    "    else:\n",
    "        potrebne_ocjene.append(5)\n",
    "\n",
    "print(\"Potrebne ocjene za dostizanje željenog prosjeka:\", end=\" \")\n",
    "for ocijena in potrebne_ocjene:\n",
    "    print(ocijena, end=\" \")\n",
    "print()\n",
    "\n",
    "prosjek_svih_ocjena = (zbroj_ocjena + sum(potrebne_ocjene)) / (broj_ocjena + len(potrebne_ocjene))\n",
    "print(f\"Novi prosjek: {prosjek_svih_ocjena}\")\n"
   ]
  }
 ],
 "metadata": {
  "kernelspec": {
   "display_name": "Python 3",
   "language": "python",
   "name": "python3"
  },
  "language_info": {
   "codemirror_mode": {
    "name": "ipython",
    "version": 3
   },
   "file_extension": ".py",
   "mimetype": "text/x-python",
   "name": "python",
   "nbconvert_exporter": "python",
   "pygments_lexer": "ipython3",
   "version": "3.13.2"
  }
 },
 "nbformat": 4,
 "nbformat_minor": 2
}
